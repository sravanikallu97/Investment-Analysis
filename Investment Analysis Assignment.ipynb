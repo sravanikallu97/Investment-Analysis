{
 "cells": [
  {
   "cell_type": "markdown",
   "metadata": {},
   "source": [
    "# Investment Analysis Assignment"
   ]
  },
  {
   "cell_type": "code",
   "execution_count": 1,
   "metadata": {},
   "outputs": [],
   "source": [
    "# Supress Warnings\n",
    "import warnings\n",
    "warnings.filterwarnings('ignore')"
   ]
  },
  {
   "cell_type": "code",
   "execution_count": 2,
   "metadata": {},
   "outputs": [],
   "source": [
    "#import the libraries\n",
    "import pandas as pd, numpy as np"
   ]
  },
  {
   "cell_type": "markdown",
   "metadata": {},
   "source": [
    "## Checkpoint 1: Data Cleaning 1"
   ]
  },
  {
   "cell_type": "markdown",
   "metadata": {},
   "source": [
    "##### Loading the rounds2 data and  Encoding"
   ]
  },
  {
   "cell_type": "code",
   "execution_count": 3,
   "metadata": {},
   "outputs": [],
   "source": [
    "# reading rounds2.csv file with the encoding type\n",
    "rounds2 = pd.read_csv('rounds2.csv',encoding='ISO-8859-1')"
   ]
  },
  {
   "cell_type": "markdown",
   "metadata": {},
   "source": [
    "##### Loading the companies data and  Encoding"
   ]
  },
  {
   "cell_type": "code",
   "execution_count": 4,
   "metadata": {},
   "outputs": [],
   "source": [
    "# reading companies.csv file with the encoding type\n",
    "companies = pd.read_csv('companies.csv',encoding='ISO-8859-1')"
   ]
  },
  {
   "cell_type": "markdown",
   "metadata": {},
   "source": [
    "### Data Understanding/Exploration "
   ]
  },
  {
   "cell_type": "code",
   "execution_count": 5,
   "metadata": {},
   "outputs": [
    {
     "data": {
      "text/html": [
       "<div>\n",
       "<style scoped>\n",
       "    .dataframe tbody tr th:only-of-type {\n",
       "        vertical-align: middle;\n",
       "    }\n",
       "\n",
       "    .dataframe tbody tr th {\n",
       "        vertical-align: top;\n",
       "    }\n",
       "\n",
       "    .dataframe thead th {\n",
       "        text-align: right;\n",
       "    }\n",
       "</style>\n",
       "<table border=\"1\" class=\"dataframe\">\n",
       "  <thead>\n",
       "    <tr style=\"text-align: right;\">\n",
       "      <th></th>\n",
       "      <th>company_permalink</th>\n",
       "      <th>funding_round_permalink</th>\n",
       "      <th>funding_round_type</th>\n",
       "      <th>funding_round_code</th>\n",
       "      <th>funded_at</th>\n",
       "      <th>raised_amount_usd</th>\n",
       "    </tr>\n",
       "  </thead>\n",
       "  <tbody>\n",
       "    <tr>\n",
       "      <th>0</th>\n",
       "      <td>/organization/-fame</td>\n",
       "      <td>/funding-round/9a01d05418af9f794eebff7ace91f638</td>\n",
       "      <td>venture</td>\n",
       "      <td>B</td>\n",
       "      <td>05-01-2015</td>\n",
       "      <td>10000000.0</td>\n",
       "    </tr>\n",
       "    <tr>\n",
       "      <th>1</th>\n",
       "      <td>/ORGANIZATION/-QOUNTER</td>\n",
       "      <td>/funding-round/22dacff496eb7acb2b901dec1dfe5633</td>\n",
       "      <td>venture</td>\n",
       "      <td>A</td>\n",
       "      <td>14-10-2014</td>\n",
       "      <td>NaN</td>\n",
       "    </tr>\n",
       "    <tr>\n",
       "      <th>2</th>\n",
       "      <td>/organization/-qounter</td>\n",
       "      <td>/funding-round/b44fbb94153f6cdef13083530bb48030</td>\n",
       "      <td>seed</td>\n",
       "      <td>NaN</td>\n",
       "      <td>01-03-2014</td>\n",
       "      <td>700000.0</td>\n",
       "    </tr>\n",
       "    <tr>\n",
       "      <th>3</th>\n",
       "      <td>/ORGANIZATION/-THE-ONE-OF-THEM-INC-</td>\n",
       "      <td>/funding-round/650b8f704416801069bb178a1418776b</td>\n",
       "      <td>venture</td>\n",
       "      <td>B</td>\n",
       "      <td>30-01-2014</td>\n",
       "      <td>3406878.0</td>\n",
       "    </tr>\n",
       "    <tr>\n",
       "      <th>4</th>\n",
       "      <td>/organization/0-6-com</td>\n",
       "      <td>/funding-round/5727accaeaa57461bd22a9bdd945382d</td>\n",
       "      <td>venture</td>\n",
       "      <td>A</td>\n",
       "      <td>19-03-2008</td>\n",
       "      <td>2000000.0</td>\n",
       "    </tr>\n",
       "  </tbody>\n",
       "</table>\n",
       "</div>"
      ],
      "text/plain": [
       "                     company_permalink  \\\n",
       "0                  /organization/-fame   \n",
       "1               /ORGANIZATION/-QOUNTER   \n",
       "2               /organization/-qounter   \n",
       "3  /ORGANIZATION/-THE-ONE-OF-THEM-INC-   \n",
       "4                /organization/0-6-com   \n",
       "\n",
       "                           funding_round_permalink funding_round_type  \\\n",
       "0  /funding-round/9a01d05418af9f794eebff7ace91f638            venture   \n",
       "1  /funding-round/22dacff496eb7acb2b901dec1dfe5633            venture   \n",
       "2  /funding-round/b44fbb94153f6cdef13083530bb48030               seed   \n",
       "3  /funding-round/650b8f704416801069bb178a1418776b            venture   \n",
       "4  /funding-round/5727accaeaa57461bd22a9bdd945382d            venture   \n",
       "\n",
       "  funding_round_code   funded_at  raised_amount_usd  \n",
       "0                  B  05-01-2015         10000000.0  \n",
       "1                  A  14-10-2014                NaN  \n",
       "2                NaN  01-03-2014           700000.0  \n",
       "3                  B  30-01-2014          3406878.0  \n",
       "4                  A  19-03-2008          2000000.0  "
      ]
     },
     "execution_count": 5,
     "metadata": {},
     "output_type": "execute_result"
    }
   ],
   "source": [
    "rounds2.head()"
   ]
  },
  {
   "cell_type": "code",
   "execution_count": 6,
   "metadata": {},
   "outputs": [
    {
     "data": {
      "text/html": [
       "<div>\n",
       "<style scoped>\n",
       "    .dataframe tbody tr th:only-of-type {\n",
       "        vertical-align: middle;\n",
       "    }\n",
       "\n",
       "    .dataframe tbody tr th {\n",
       "        vertical-align: top;\n",
       "    }\n",
       "\n",
       "    .dataframe thead th {\n",
       "        text-align: right;\n",
       "    }\n",
       "</style>\n",
       "<table border=\"1\" class=\"dataframe\">\n",
       "  <thead>\n",
       "    <tr style=\"text-align: right;\">\n",
       "      <th></th>\n",
       "      <th>company_permalink</th>\n",
       "      <th>funding_round_permalink</th>\n",
       "      <th>funding_round_type</th>\n",
       "      <th>funding_round_code</th>\n",
       "      <th>funded_at</th>\n",
       "      <th>raised_amount_usd</th>\n",
       "    </tr>\n",
       "  </thead>\n",
       "  <tbody>\n",
       "    <tr>\n",
       "      <th>114944</th>\n",
       "      <td>/organization/zzzzapp-com</td>\n",
       "      <td>/funding-round/8f6d25b8ee4199e586484d817bceda05</td>\n",
       "      <td>convertible_note</td>\n",
       "      <td>NaN</td>\n",
       "      <td>01-03-2014</td>\n",
       "      <td>41313.0</td>\n",
       "    </tr>\n",
       "    <tr>\n",
       "      <th>114945</th>\n",
       "      <td>/ORGANIZATION/ZZZZAPP-COM</td>\n",
       "      <td>/funding-round/ff1aa06ed5da186c84f101549035d4ae</td>\n",
       "      <td>seed</td>\n",
       "      <td>NaN</td>\n",
       "      <td>01-05-2013</td>\n",
       "      <td>32842.0</td>\n",
       "    </tr>\n",
       "    <tr>\n",
       "      <th>114946</th>\n",
       "      <td>/organization/ãeron</td>\n",
       "      <td>/funding-round/59f4dce44723b794f21ded3daed6e4fe</td>\n",
       "      <td>venture</td>\n",
       "      <td>A</td>\n",
       "      <td>01-08-2014</td>\n",
       "      <td>NaN</td>\n",
       "    </tr>\n",
       "    <tr>\n",
       "      <th>114947</th>\n",
       "      <td>/ORGANIZATION/ÃASYS-2</td>\n",
       "      <td>/funding-round/35f09d0794651719b02bbfd859ba9ff5</td>\n",
       "      <td>seed</td>\n",
       "      <td>NaN</td>\n",
       "      <td>01-01-2015</td>\n",
       "      <td>18192.0</td>\n",
       "    </tr>\n",
       "    <tr>\n",
       "      <th>114948</th>\n",
       "      <td>/organization/ä°novatiff-reklam-ve-tanä±tä±m-h...</td>\n",
       "      <td>/funding-round/af942869878d2cd788ef5189b435ebc4</td>\n",
       "      <td>grant</td>\n",
       "      <td>NaN</td>\n",
       "      <td>01-10-2013</td>\n",
       "      <td>14851.0</td>\n",
       "    </tr>\n",
       "  </tbody>\n",
       "</table>\n",
       "</div>"
      ],
      "text/plain": [
       "                                        company_permalink  \\\n",
       "114944                          /organization/zzzzapp-com   \n",
       "114945                          /ORGANIZATION/ZZZZAPP-COM   \n",
       "114946                               /organization/ãeron   \n",
       "114947                             /ORGANIZATION/ÃASYS-2   \n",
       "114948  /organization/ä°novatiff-reklam-ve-tanä±tä±m-h...   \n",
       "\n",
       "                                funding_round_permalink funding_round_type  \\\n",
       "114944  /funding-round/8f6d25b8ee4199e586484d817bceda05   convertible_note   \n",
       "114945  /funding-round/ff1aa06ed5da186c84f101549035d4ae               seed   \n",
       "114946  /funding-round/59f4dce44723b794f21ded3daed6e4fe            venture   \n",
       "114947  /funding-round/35f09d0794651719b02bbfd859ba9ff5               seed   \n",
       "114948  /funding-round/af942869878d2cd788ef5189b435ebc4              grant   \n",
       "\n",
       "       funding_round_code   funded_at  raised_amount_usd  \n",
       "114944                NaN  01-03-2014            41313.0  \n",
       "114945                NaN  01-05-2013            32842.0  \n",
       "114946                  A  01-08-2014                NaN  \n",
       "114947                NaN  01-01-2015            18192.0  \n",
       "114948                NaN  01-10-2013            14851.0  "
      ]
     },
     "execution_count": 6,
     "metadata": {},
     "output_type": "execute_result"
    }
   ],
   "source": [
    "rounds2.tail()"
   ]
  },
  {
   "cell_type": "code",
   "execution_count": 7,
   "metadata": {},
   "outputs": [
    {
     "data": {
      "text/html": [
       "<div>\n",
       "<style scoped>\n",
       "    .dataframe tbody tr th:only-of-type {\n",
       "        vertical-align: middle;\n",
       "    }\n",
       "\n",
       "    .dataframe tbody tr th {\n",
       "        vertical-align: top;\n",
       "    }\n",
       "\n",
       "    .dataframe thead th {\n",
       "        text-align: right;\n",
       "    }\n",
       "</style>\n",
       "<table border=\"1\" class=\"dataframe\">\n",
       "  <thead>\n",
       "    <tr style=\"text-align: right;\">\n",
       "      <th></th>\n",
       "      <th>company_permalink</th>\n",
       "      <th>funding_round_permalink</th>\n",
       "      <th>funding_round_type</th>\n",
       "      <th>funding_round_code</th>\n",
       "      <th>funded_at</th>\n",
       "      <th>raised_amount_usd</th>\n",
       "    </tr>\n",
       "  </thead>\n",
       "  <tbody>\n",
       "    <tr>\n",
       "      <th>750</th>\n",
       "      <td>/organization/58-com</td>\n",
       "      <td>/funding-round/fdf08e36fe59c3abd81c6f193d5406f3</td>\n",
       "      <td>venture</td>\n",
       "      <td>C</td>\n",
       "      <td>01-12-2010</td>\n",
       "      <td>60000000.0</td>\n",
       "    </tr>\n",
       "    <tr>\n",
       "      <th>1685</th>\n",
       "      <td>/ORGANIZATION/ACERTA-PHARMA</td>\n",
       "      <td>/funding-round/bd768d573d75dc2ab0c77133d6a887f5</td>\n",
       "      <td>seed</td>\n",
       "      <td>NaN</td>\n",
       "      <td>14-03-2013</td>\n",
       "      <td>NaN</td>\n",
       "    </tr>\n",
       "    <tr>\n",
       "      <th>105067</th>\n",
       "      <td>/ORGANIZATION/UPSIGHT</td>\n",
       "      <td>/funding-round/2b137cdb4a338b90c2cf1dbecf5625d6</td>\n",
       "      <td>angel</td>\n",
       "      <td>NaN</td>\n",
       "      <td>09-04-2010</td>\n",
       "      <td>1000000.0</td>\n",
       "    </tr>\n",
       "    <tr>\n",
       "      <th>95943</th>\n",
       "      <td>/ORGANIZATION/SUN-ANIMATICS-INDIA</td>\n",
       "      <td>/funding-round/d1510e295203f7ff9d5afd270930bec1</td>\n",
       "      <td>equity_crowdfunding</td>\n",
       "      <td>NaN</td>\n",
       "      <td>13-11-2010</td>\n",
       "      <td>NaN</td>\n",
       "    </tr>\n",
       "    <tr>\n",
       "      <th>28511</th>\n",
       "      <td>/ORGANIZATION/DOGVACAY</td>\n",
       "      <td>/funding-round/100cbab69749210c3eb8fbde42760c8f</td>\n",
       "      <td>venture</td>\n",
       "      <td>NaN</td>\n",
       "      <td>09-03-2012</td>\n",
       "      <td>1000000.0</td>\n",
       "    </tr>\n",
       "    <tr>\n",
       "      <th>105951</th>\n",
       "      <td>/ORGANIZATION/VAYUSA</td>\n",
       "      <td>/funding-round/cdf2c49a435fbb255628d10179156255</td>\n",
       "      <td>venture</td>\n",
       "      <td>A</td>\n",
       "      <td>20-03-2006</td>\n",
       "      <td>10000000.0</td>\n",
       "    </tr>\n",
       "    <tr>\n",
       "      <th>85526</th>\n",
       "      <td>/organization/salesloft</td>\n",
       "      <td>/funding-round/1d8ad546474f0efbc27bf49045ebd61d</td>\n",
       "      <td>venture</td>\n",
       "      <td>A</td>\n",
       "      <td>01-04-2015</td>\n",
       "      <td>10150000.0</td>\n",
       "    </tr>\n",
       "    <tr>\n",
       "      <th>24127</th>\n",
       "      <td>/ORGANIZATION/COZIGROUP</td>\n",
       "      <td>/funding-round/32bf7f756b6e942fa646e164e1e1e06f</td>\n",
       "      <td>venture</td>\n",
       "      <td>B</td>\n",
       "      <td>01-01-2006</td>\n",
       "      <td>1300000.0</td>\n",
       "    </tr>\n",
       "    <tr>\n",
       "      <th>47978</th>\n",
       "      <td>/organization/innography</td>\n",
       "      <td>/funding-round/96ed6c7397094b099e8b931d199bcadc</td>\n",
       "      <td>venture</td>\n",
       "      <td>A</td>\n",
       "      <td>01-08-2008</td>\n",
       "      <td>6500000.0</td>\n",
       "    </tr>\n",
       "    <tr>\n",
       "      <th>113410</th>\n",
       "      <td>/organization/yuuguu</td>\n",
       "      <td>/funding-round/94c2d0db9b5329fbcf5edbbbacf12c5b</td>\n",
       "      <td>venture</td>\n",
       "      <td>A</td>\n",
       "      <td>26-10-2006</td>\n",
       "      <td>1140000.0</td>\n",
       "    </tr>\n",
       "  </tbody>\n",
       "</table>\n",
       "</div>"
      ],
      "text/plain": [
       "                        company_permalink  \\\n",
       "750                  /organization/58-com   \n",
       "1685          /ORGANIZATION/ACERTA-PHARMA   \n",
       "105067              /ORGANIZATION/UPSIGHT   \n",
       "95943   /ORGANIZATION/SUN-ANIMATICS-INDIA   \n",
       "28511              /ORGANIZATION/DOGVACAY   \n",
       "105951               /ORGANIZATION/VAYUSA   \n",
       "85526             /organization/salesloft   \n",
       "24127             /ORGANIZATION/COZIGROUP   \n",
       "47978            /organization/innography   \n",
       "113410               /organization/yuuguu   \n",
       "\n",
       "                                funding_round_permalink   funding_round_type  \\\n",
       "750     /funding-round/fdf08e36fe59c3abd81c6f193d5406f3              venture   \n",
       "1685    /funding-round/bd768d573d75dc2ab0c77133d6a887f5                 seed   \n",
       "105067  /funding-round/2b137cdb4a338b90c2cf1dbecf5625d6                angel   \n",
       "95943   /funding-round/d1510e295203f7ff9d5afd270930bec1  equity_crowdfunding   \n",
       "28511   /funding-round/100cbab69749210c3eb8fbde42760c8f              venture   \n",
       "105951  /funding-round/cdf2c49a435fbb255628d10179156255              venture   \n",
       "85526   /funding-round/1d8ad546474f0efbc27bf49045ebd61d              venture   \n",
       "24127   /funding-round/32bf7f756b6e942fa646e164e1e1e06f              venture   \n",
       "47978   /funding-round/96ed6c7397094b099e8b931d199bcadc              venture   \n",
       "113410  /funding-round/94c2d0db9b5329fbcf5edbbbacf12c5b              venture   \n",
       "\n",
       "       funding_round_code   funded_at  raised_amount_usd  \n",
       "750                     C  01-12-2010         60000000.0  \n",
       "1685                  NaN  14-03-2013                NaN  \n",
       "105067                NaN  09-04-2010          1000000.0  \n",
       "95943                 NaN  13-11-2010                NaN  \n",
       "28511                 NaN  09-03-2012          1000000.0  \n",
       "105951                  A  20-03-2006         10000000.0  \n",
       "85526                   A  01-04-2015         10150000.0  \n",
       "24127                   B  01-01-2006          1300000.0  \n",
       "47978                   A  01-08-2008          6500000.0  \n",
       "113410                  A  26-10-2006          1140000.0  "
      ]
     },
     "execution_count": 7,
     "metadata": {},
     "output_type": "execute_result"
    }
   ],
   "source": [
    "rounds2.sample(10)"
   ]
  },
  {
   "cell_type": "code",
   "execution_count": 8,
   "metadata": {},
   "outputs": [
    {
     "data": {
      "text/plain": [
       "(114949, 6)"
      ]
     },
     "execution_count": 8,
     "metadata": {},
     "output_type": "execute_result"
    }
   ],
   "source": [
    "rounds2.shape"
   ]
  },
  {
   "cell_type": "code",
   "execution_count": 9,
   "metadata": {},
   "outputs": [
    {
     "data": {
      "text/html": [
       "<div>\n",
       "<style scoped>\n",
       "    .dataframe tbody tr th:only-of-type {\n",
       "        vertical-align: middle;\n",
       "    }\n",
       "\n",
       "    .dataframe tbody tr th {\n",
       "        vertical-align: top;\n",
       "    }\n",
       "\n",
       "    .dataframe thead th {\n",
       "        text-align: right;\n",
       "    }\n",
       "</style>\n",
       "<table border=\"1\" class=\"dataframe\">\n",
       "  <thead>\n",
       "    <tr style=\"text-align: right;\">\n",
       "      <th></th>\n",
       "      <th>permalink</th>\n",
       "      <th>name</th>\n",
       "      <th>homepage_url</th>\n",
       "      <th>category_list</th>\n",
       "      <th>status</th>\n",
       "      <th>country_code</th>\n",
       "      <th>state_code</th>\n",
       "      <th>region</th>\n",
       "      <th>city</th>\n",
       "      <th>founded_at</th>\n",
       "    </tr>\n",
       "  </thead>\n",
       "  <tbody>\n",
       "    <tr>\n",
       "      <th>0</th>\n",
       "      <td>/Organization/-Fame</td>\n",
       "      <td>#fame</td>\n",
       "      <td>http://livfame.com</td>\n",
       "      <td>Media</td>\n",
       "      <td>operating</td>\n",
       "      <td>IND</td>\n",
       "      <td>16</td>\n",
       "      <td>Mumbai</td>\n",
       "      <td>Mumbai</td>\n",
       "      <td>NaN</td>\n",
       "    </tr>\n",
       "    <tr>\n",
       "      <th>1</th>\n",
       "      <td>/Organization/-Qounter</td>\n",
       "      <td>:Qounter</td>\n",
       "      <td>http://www.qounter.com</td>\n",
       "      <td>Application Platforms|Real Time|Social Network...</td>\n",
       "      <td>operating</td>\n",
       "      <td>USA</td>\n",
       "      <td>DE</td>\n",
       "      <td>DE - Other</td>\n",
       "      <td>Delaware City</td>\n",
       "      <td>04-09-2014</td>\n",
       "    </tr>\n",
       "    <tr>\n",
       "      <th>2</th>\n",
       "      <td>/Organization/-The-One-Of-Them-Inc-</td>\n",
       "      <td>(THE) ONE of THEM,Inc.</td>\n",
       "      <td>http://oneofthem.jp</td>\n",
       "      <td>Apps|Games|Mobile</td>\n",
       "      <td>operating</td>\n",
       "      <td>NaN</td>\n",
       "      <td>NaN</td>\n",
       "      <td>NaN</td>\n",
       "      <td>NaN</td>\n",
       "      <td>NaN</td>\n",
       "    </tr>\n",
       "    <tr>\n",
       "      <th>3</th>\n",
       "      <td>/Organization/0-6-Com</td>\n",
       "      <td>0-6.com</td>\n",
       "      <td>http://www.0-6.com</td>\n",
       "      <td>Curated Web</td>\n",
       "      <td>operating</td>\n",
       "      <td>CHN</td>\n",
       "      <td>22</td>\n",
       "      <td>Beijing</td>\n",
       "      <td>Beijing</td>\n",
       "      <td>01-01-2007</td>\n",
       "    </tr>\n",
       "    <tr>\n",
       "      <th>4</th>\n",
       "      <td>/Organization/004-Technologies</td>\n",
       "      <td>004 Technologies</td>\n",
       "      <td>http://004gmbh.de/en/004-interact</td>\n",
       "      <td>Software</td>\n",
       "      <td>operating</td>\n",
       "      <td>USA</td>\n",
       "      <td>IL</td>\n",
       "      <td>Springfield, Illinois</td>\n",
       "      <td>Champaign</td>\n",
       "      <td>01-01-2010</td>\n",
       "    </tr>\n",
       "  </tbody>\n",
       "</table>\n",
       "</div>"
      ],
      "text/plain": [
       "                             permalink                    name  \\\n",
       "0                  /Organization/-Fame                   #fame   \n",
       "1               /Organization/-Qounter                :Qounter   \n",
       "2  /Organization/-The-One-Of-Them-Inc-  (THE) ONE of THEM,Inc.   \n",
       "3                /Organization/0-6-Com                 0-6.com   \n",
       "4       /Organization/004-Technologies        004 Technologies   \n",
       "\n",
       "                        homepage_url  \\\n",
       "0                 http://livfame.com   \n",
       "1             http://www.qounter.com   \n",
       "2                http://oneofthem.jp   \n",
       "3                 http://www.0-6.com   \n",
       "4  http://004gmbh.de/en/004-interact   \n",
       "\n",
       "                                       category_list     status country_code  \\\n",
       "0                                              Media  operating          IND   \n",
       "1  Application Platforms|Real Time|Social Network...  operating          USA   \n",
       "2                                  Apps|Games|Mobile  operating          NaN   \n",
       "3                                        Curated Web  operating          CHN   \n",
       "4                                           Software  operating          USA   \n",
       "\n",
       "  state_code                 region           city  founded_at  \n",
       "0         16                 Mumbai         Mumbai         NaN  \n",
       "1         DE             DE - Other  Delaware City  04-09-2014  \n",
       "2        NaN                    NaN            NaN         NaN  \n",
       "3         22                Beijing        Beijing  01-01-2007  \n",
       "4         IL  Springfield, Illinois      Champaign  01-01-2010  "
      ]
     },
     "execution_count": 9,
     "metadata": {},
     "output_type": "execute_result"
    }
   ],
   "source": [
    "companies.head()"
   ]
  },
  {
   "cell_type": "code",
   "execution_count": 10,
   "metadata": {},
   "outputs": [
    {
     "data": {
      "text/html": [
       "<div>\n",
       "<style scoped>\n",
       "    .dataframe tbody tr th:only-of-type {\n",
       "        vertical-align: middle;\n",
       "    }\n",
       "\n",
       "    .dataframe tbody tr th {\n",
       "        vertical-align: top;\n",
       "    }\n",
       "\n",
       "    .dataframe thead th {\n",
       "        text-align: right;\n",
       "    }\n",
       "</style>\n",
       "<table border=\"1\" class=\"dataframe\">\n",
       "  <thead>\n",
       "    <tr style=\"text-align: right;\">\n",
       "      <th></th>\n",
       "      <th>permalink</th>\n",
       "      <th>name</th>\n",
       "      <th>homepage_url</th>\n",
       "      <th>category_list</th>\n",
       "      <th>status</th>\n",
       "      <th>country_code</th>\n",
       "      <th>state_code</th>\n",
       "      <th>region</th>\n",
       "      <th>city</th>\n",
       "      <th>founded_at</th>\n",
       "    </tr>\n",
       "  </thead>\n",
       "  <tbody>\n",
       "    <tr>\n",
       "      <th>66363</th>\n",
       "      <td>/Organization/Zznode-Science-And-Technology-Co...</td>\n",
       "      <td>ZZNode Science and Technology</td>\n",
       "      <td>http://www.zznode.com</td>\n",
       "      <td>Enterprise Software</td>\n",
       "      <td>operating</td>\n",
       "      <td>CHN</td>\n",
       "      <td>22</td>\n",
       "      <td>Beijing</td>\n",
       "      <td>Beijing</td>\n",
       "      <td>NaN</td>\n",
       "    </tr>\n",
       "    <tr>\n",
       "      <th>66364</th>\n",
       "      <td>/Organization/Zzzzapp-Com</td>\n",
       "      <td>Zzzzapp Wireless ltd.</td>\n",
       "      <td>http://www.zzzzapp.com</td>\n",
       "      <td>Advertising|Mobile|Web Development|Wireless</td>\n",
       "      <td>operating</td>\n",
       "      <td>HRV</td>\n",
       "      <td>15</td>\n",
       "      <td>Split</td>\n",
       "      <td>Split</td>\n",
       "      <td>13-05-2012</td>\n",
       "    </tr>\n",
       "    <tr>\n",
       "      <th>66365</th>\n",
       "      <td>/Organization/ÃEron</td>\n",
       "      <td>ÃERON</td>\n",
       "      <td>http://www.aeron.hu/</td>\n",
       "      <td>NaN</td>\n",
       "      <td>operating</td>\n",
       "      <td>NaN</td>\n",
       "      <td>NaN</td>\n",
       "      <td>NaN</td>\n",
       "      <td>NaN</td>\n",
       "      <td>01-01-2011</td>\n",
       "    </tr>\n",
       "    <tr>\n",
       "      <th>66366</th>\n",
       "      <td>/Organization/ÃAsys-2</td>\n",
       "      <td>Ãasys</td>\n",
       "      <td>http://www.oasys.io/</td>\n",
       "      <td>Consumer Electronics|Internet of Things|Teleco...</td>\n",
       "      <td>operating</td>\n",
       "      <td>USA</td>\n",
       "      <td>CA</td>\n",
       "      <td>SF Bay Area</td>\n",
       "      <td>San Francisco</td>\n",
       "      <td>01-01-2014</td>\n",
       "    </tr>\n",
       "    <tr>\n",
       "      <th>66367</th>\n",
       "      <td>/Organization/Ä°Novatiff-Reklam-Ve-Tanä±Tä±M-H...</td>\n",
       "      <td>Ä°novatiff Reklam ve TanÄ±tÄ±m Hizmetleri Tic</td>\n",
       "      <td>http://inovatiff.com</td>\n",
       "      <td>Consumer Goods|E-Commerce|Internet</td>\n",
       "      <td>operating</td>\n",
       "      <td>NaN</td>\n",
       "      <td>NaN</td>\n",
       "      <td>NaN</td>\n",
       "      <td>NaN</td>\n",
       "      <td>NaN</td>\n",
       "    </tr>\n",
       "  </tbody>\n",
       "</table>\n",
       "</div>"
      ],
      "text/plain": [
       "                                               permalink  \\\n",
       "66363  /Organization/Zznode-Science-And-Technology-Co...   \n",
       "66364                          /Organization/Zzzzapp-Com   \n",
       "66365                               /Organization/ÃEron   \n",
       "66366                             /Organization/ÃAsys-2   \n",
       "66367  /Organization/Ä°Novatiff-Reklam-Ve-Tanä±Tä±M-H...   \n",
       "\n",
       "                                                name            homepage_url  \\\n",
       "66363                  ZZNode Science and Technology   http://www.zznode.com   \n",
       "66364                          Zzzzapp Wireless ltd.  http://www.zzzzapp.com   \n",
       "66365                                         ÃERON    http://www.aeron.hu/   \n",
       "66366                                         Ãasys    http://www.oasys.io/   \n",
       "66367  Ä°novatiff Reklam ve TanÄ±tÄ±m Hizmetleri Tic    http://inovatiff.com   \n",
       "\n",
       "                                           category_list     status  \\\n",
       "66363                                Enterprise Software  operating   \n",
       "66364        Advertising|Mobile|Web Development|Wireless  operating   \n",
       "66365                                                NaN  operating   \n",
       "66366  Consumer Electronics|Internet of Things|Teleco...  operating   \n",
       "66367                 Consumer Goods|E-Commerce|Internet  operating   \n",
       "\n",
       "      country_code state_code       region           city  founded_at  \n",
       "66363          CHN         22      Beijing        Beijing         NaN  \n",
       "66364          HRV         15        Split          Split  13-05-2012  \n",
       "66365          NaN        NaN          NaN            NaN  01-01-2011  \n",
       "66366          USA         CA  SF Bay Area  San Francisco  01-01-2014  \n",
       "66367          NaN        NaN          NaN            NaN         NaN  "
      ]
     },
     "execution_count": 10,
     "metadata": {},
     "output_type": "execute_result"
    }
   ],
   "source": [
    "companies.tail()"
   ]
  },
  {
   "cell_type": "code",
   "execution_count": 11,
   "metadata": {},
   "outputs": [
    {
     "data": {
      "text/html": [
       "<div>\n",
       "<style scoped>\n",
       "    .dataframe tbody tr th:only-of-type {\n",
       "        vertical-align: middle;\n",
       "    }\n",
       "\n",
       "    .dataframe tbody tr th {\n",
       "        vertical-align: top;\n",
       "    }\n",
       "\n",
       "    .dataframe thead th {\n",
       "        text-align: right;\n",
       "    }\n",
       "</style>\n",
       "<table border=\"1\" class=\"dataframe\">\n",
       "  <thead>\n",
       "    <tr style=\"text-align: right;\">\n",
       "      <th></th>\n",
       "      <th>permalink</th>\n",
       "      <th>name</th>\n",
       "      <th>homepage_url</th>\n",
       "      <th>category_list</th>\n",
       "      <th>status</th>\n",
       "      <th>country_code</th>\n",
       "      <th>state_code</th>\n",
       "      <th>region</th>\n",
       "      <th>city</th>\n",
       "      <th>founded_at</th>\n",
       "    </tr>\n",
       "  </thead>\n",
       "  <tbody>\n",
       "    <tr>\n",
       "      <th>32399</th>\n",
       "      <td>/Organization/Ligon-Discovery</td>\n",
       "      <td>Ligon Discovery</td>\n",
       "      <td>http://www.ligondiscovery.com</td>\n",
       "      <td>Biotechnology</td>\n",
       "      <td>operating</td>\n",
       "      <td>USA</td>\n",
       "      <td>MA</td>\n",
       "      <td>Boston</td>\n",
       "      <td>Cambridge</td>\n",
       "      <td>NaN</td>\n",
       "    </tr>\n",
       "    <tr>\n",
       "      <th>25756</th>\n",
       "      <td>/Organization/Homedeco2U</td>\n",
       "      <td>homedeco2u</td>\n",
       "      <td>http://www.homedeco2u.com</td>\n",
       "      <td>Curated Web|Home Renovation|Marketplaces|Socia...</td>\n",
       "      <td>operating</td>\n",
       "      <td>NaN</td>\n",
       "      <td>NaN</td>\n",
       "      <td>NaN</td>\n",
       "      <td>NaN</td>\n",
       "      <td>01-04-2011</td>\n",
       "    </tr>\n",
       "    <tr>\n",
       "      <th>60658</th>\n",
       "      <td>/Organization/Up-Web-Game-Gmbh</td>\n",
       "      <td>UP Web Game GmbH</td>\n",
       "      <td>NaN</td>\n",
       "      <td>Games|Social Games</td>\n",
       "      <td>operating</td>\n",
       "      <td>DEU</td>\n",
       "      <td>7</td>\n",
       "      <td>Cologne</td>\n",
       "      <td>Cologne</td>\n",
       "      <td>29-10-2009</td>\n",
       "    </tr>\n",
       "    <tr>\n",
       "      <th>11165</th>\n",
       "      <td>/Organization/Ciphercloud</td>\n",
       "      <td>CipherCloud</td>\n",
       "      <td>http://www.ciphercloud.com</td>\n",
       "      <td>Cloud Security|Data Security|Enterprise Software</td>\n",
       "      <td>operating</td>\n",
       "      <td>USA</td>\n",
       "      <td>CA</td>\n",
       "      <td>SF Bay Area</td>\n",
       "      <td>San Jose</td>\n",
       "      <td>01-10-2010</td>\n",
       "    </tr>\n",
       "    <tr>\n",
       "      <th>36296</th>\n",
       "      <td>/Organization/Mkg-Enterprises</td>\n",
       "      <td>MKG Enterprises</td>\n",
       "      <td>http://www.mkgenterprisecorp.com</td>\n",
       "      <td>Financial Services</td>\n",
       "      <td>operating</td>\n",
       "      <td>USA</td>\n",
       "      <td>CA</td>\n",
       "      <td>Fresno</td>\n",
       "      <td>Clovis</td>\n",
       "      <td>01-05-2013</td>\n",
       "    </tr>\n",
       "    <tr>\n",
       "      <th>65359</th>\n",
       "      <td>/Organization/Youfaith</td>\n",
       "      <td>Youfaith</td>\n",
       "      <td>http://www.youfaith.com</td>\n",
       "      <td>Religion|Services|Social Network Media</td>\n",
       "      <td>operating</td>\n",
       "      <td>NaN</td>\n",
       "      <td>NaN</td>\n",
       "      <td>NaN</td>\n",
       "      <td>NaN</td>\n",
       "      <td>01-07-2011</td>\n",
       "    </tr>\n",
       "    <tr>\n",
       "      <th>58585</th>\n",
       "      <td>/Organization/Topfun</td>\n",
       "      <td>TopFun</td>\n",
       "      <td>NaN</td>\n",
       "      <td>Games</td>\n",
       "      <td>operating</td>\n",
       "      <td>NaN</td>\n",
       "      <td>NaN</td>\n",
       "      <td>NaN</td>\n",
       "      <td>NaN</td>\n",
       "      <td>NaN</td>\n",
       "    </tr>\n",
       "    <tr>\n",
       "      <th>48578</th>\n",
       "      <td>/Organization/Rives-And-Company</td>\n",
       "      <td>Rives and Company</td>\n",
       "      <td>NaN</td>\n",
       "      <td>Fashion</td>\n",
       "      <td>operating</td>\n",
       "      <td>USA</td>\n",
       "      <td>TX</td>\n",
       "      <td>Dallas</td>\n",
       "      <td>Fort Worth</td>\n",
       "      <td>09-06-2014</td>\n",
       "    </tr>\n",
       "    <tr>\n",
       "      <th>22520</th>\n",
       "      <td>/Organization/Genesius-Pictures</td>\n",
       "      <td>Genesius Pictures</td>\n",
       "      <td>http://genesiuspictures.com/</td>\n",
       "      <td>NaN</td>\n",
       "      <td>operating</td>\n",
       "      <td>GBR</td>\n",
       "      <td>H9</td>\n",
       "      <td>London</td>\n",
       "      <td>London</td>\n",
       "      <td>NaN</td>\n",
       "    </tr>\n",
       "    <tr>\n",
       "      <th>770</th>\n",
       "      <td>/Organization/Abs</td>\n",
       "      <td>ABS</td>\n",
       "      <td>http://advbiosurf.com</td>\n",
       "      <td>Health Care</td>\n",
       "      <td>operating</td>\n",
       "      <td>USA</td>\n",
       "      <td>MN</td>\n",
       "      <td>Minneapolis</td>\n",
       "      <td>Minnetonka</td>\n",
       "      <td>01-01-2009</td>\n",
       "    </tr>\n",
       "  </tbody>\n",
       "</table>\n",
       "</div>"
      ],
      "text/plain": [
       "                             permalink               name  \\\n",
       "32399    /Organization/Ligon-Discovery    Ligon Discovery   \n",
       "25756         /Organization/Homedeco2U         homedeco2u   \n",
       "60658   /Organization/Up-Web-Game-Gmbh   UP Web Game GmbH   \n",
       "11165        /Organization/Ciphercloud        CipherCloud   \n",
       "36296    /Organization/Mkg-Enterprises    MKG Enterprises   \n",
       "65359           /Organization/Youfaith           Youfaith   \n",
       "58585             /Organization/Topfun             TopFun   \n",
       "48578  /Organization/Rives-And-Company  Rives and Company   \n",
       "22520  /Organization/Genesius-Pictures  Genesius Pictures   \n",
       "770                  /Organization/Abs                ABS   \n",
       "\n",
       "                           homepage_url  \\\n",
       "32399     http://www.ligondiscovery.com   \n",
       "25756         http://www.homedeco2u.com   \n",
       "60658                               NaN   \n",
       "11165        http://www.ciphercloud.com   \n",
       "36296  http://www.mkgenterprisecorp.com   \n",
       "65359           http://www.youfaith.com   \n",
       "58585                               NaN   \n",
       "48578                               NaN   \n",
       "22520      http://genesiuspictures.com/   \n",
       "770               http://advbiosurf.com   \n",
       "\n",
       "                                           category_list     status  \\\n",
       "32399                                      Biotechnology  operating   \n",
       "25756  Curated Web|Home Renovation|Marketplaces|Socia...  operating   \n",
       "60658                                 Games|Social Games  operating   \n",
       "11165   Cloud Security|Data Security|Enterprise Software  operating   \n",
       "36296                                 Financial Services  operating   \n",
       "65359             Religion|Services|Social Network Media  operating   \n",
       "58585                                              Games  operating   \n",
       "48578                                            Fashion  operating   \n",
       "22520                                                NaN  operating   \n",
       "770                                          Health Care  operating   \n",
       "\n",
       "      country_code state_code       region        city  founded_at  \n",
       "32399          USA         MA       Boston   Cambridge         NaN  \n",
       "25756          NaN        NaN          NaN         NaN  01-04-2011  \n",
       "60658          DEU          7      Cologne     Cologne  29-10-2009  \n",
       "11165          USA         CA  SF Bay Area    San Jose  01-10-2010  \n",
       "36296          USA         CA       Fresno      Clovis  01-05-2013  \n",
       "65359          NaN        NaN          NaN         NaN  01-07-2011  \n",
       "58585          NaN        NaN          NaN         NaN         NaN  \n",
       "48578          USA         TX       Dallas  Fort Worth  09-06-2014  \n",
       "22520          GBR         H9       London      London         NaN  \n",
       "770            USA         MN  Minneapolis  Minnetonka  01-01-2009  "
      ]
     },
     "execution_count": 11,
     "metadata": {},
     "output_type": "execute_result"
    }
   ],
   "source": [
    "companies.sample(10)"
   ]
  },
  {
   "cell_type": "code",
   "execution_count": 12,
   "metadata": {},
   "outputs": [
    {
     "data": {
      "text/plain": [
       "(66368, 10)"
      ]
     },
     "execution_count": 12,
     "metadata": {},
     "output_type": "execute_result"
    }
   ],
   "source": [
    "companies.shape"
   ]
  },
  {
   "cell_type": "markdown",
   "metadata": {},
   "source": [
    "Table 1.1: Understand the Data Set \n",
    "\n",
    "1) How many unique companies are present in rounds2? <br>\n",
    "2) How many unique companies are present in companies?                    \n",
    "3) In the companies data frame, which column can be used as the unique key for each company? Write the name of the column.\t <br>\n",
    "4) Are there any companies in the rounds2 file which are not present in companies? Answer yes or no: Y/N\t <br>\n",
    "5) Merge the two data frames so that all variables (columns) in the companies frame are added to the rounds2 data frame. Name the merged frame master_frame. How many observations are present in master_frame?"
   ]
  },
  {
   "cell_type": "markdown",
   "metadata": {},
   "source": [
    "### Data Inspection"
   ]
  },
  {
   "cell_type": "code",
   "execution_count": 13,
   "metadata": {},
   "outputs": [
    {
     "name": "stdout",
     "output_type": "stream",
     "text": [
      "<class 'pandas.core.frame.DataFrame'>\n",
      "RangeIndex: 114949 entries, 0 to 114948\n",
      "Data columns (total 6 columns):\n",
      " #   Column                   Non-Null Count   Dtype  \n",
      "---  ------                   --------------   -----  \n",
      " 0   company_permalink        114949 non-null  object \n",
      " 1   funding_round_permalink  114949 non-null  object \n",
      " 2   funding_round_type       114949 non-null  object \n",
      " 3   funding_round_code       31140 non-null   object \n",
      " 4   funded_at                114949 non-null  object \n",
      " 5   raised_amount_usd        94959 non-null   float64\n",
      "dtypes: float64(1), object(5)\n",
      "memory usage: 5.3+ MB\n"
     ]
    }
   ],
   "source": [
    "rounds2.info()"
   ]
  },
  {
   "cell_type": "code",
   "execution_count": 14,
   "metadata": {},
   "outputs": [
    {
     "data": {
      "text/html": [
       "<div>\n",
       "<style scoped>\n",
       "    .dataframe tbody tr th:only-of-type {\n",
       "        vertical-align: middle;\n",
       "    }\n",
       "\n",
       "    .dataframe tbody tr th {\n",
       "        vertical-align: top;\n",
       "    }\n",
       "\n",
       "    .dataframe thead th {\n",
       "        text-align: right;\n",
       "    }\n",
       "</style>\n",
       "<table border=\"1\" class=\"dataframe\">\n",
       "  <thead>\n",
       "    <tr style=\"text-align: right;\">\n",
       "      <th></th>\n",
       "      <th>raised_amount_usd</th>\n",
       "    </tr>\n",
       "  </thead>\n",
       "  <tbody>\n",
       "    <tr>\n",
       "      <th>count</th>\n",
       "      <td>9.495900e+04</td>\n",
       "    </tr>\n",
       "    <tr>\n",
       "      <th>mean</th>\n",
       "      <td>1.042687e+07</td>\n",
       "    </tr>\n",
       "    <tr>\n",
       "      <th>std</th>\n",
       "      <td>1.148212e+08</td>\n",
       "    </tr>\n",
       "    <tr>\n",
       "      <th>min</th>\n",
       "      <td>0.000000e+00</td>\n",
       "    </tr>\n",
       "    <tr>\n",
       "      <th>25%</th>\n",
       "      <td>3.225000e+05</td>\n",
       "    </tr>\n",
       "    <tr>\n",
       "      <th>50%</th>\n",
       "      <td>1.680511e+06</td>\n",
       "    </tr>\n",
       "    <tr>\n",
       "      <th>75%</th>\n",
       "      <td>7.000000e+06</td>\n",
       "    </tr>\n",
       "    <tr>\n",
       "      <th>max</th>\n",
       "      <td>2.127194e+10</td>\n",
       "    </tr>\n",
       "  </tbody>\n",
       "</table>\n",
       "</div>"
      ],
      "text/plain": [
       "       raised_amount_usd\n",
       "count       9.495900e+04\n",
       "mean        1.042687e+07\n",
       "std         1.148212e+08\n",
       "min         0.000000e+00\n",
       "25%         3.225000e+05\n",
       "50%         1.680511e+06\n",
       "75%         7.000000e+06\n",
       "max         2.127194e+10"
      ]
     },
     "execution_count": 14,
     "metadata": {},
     "output_type": "execute_result"
    }
   ],
   "source": [
    "rounds2.describe()"
   ]
  },
  {
   "cell_type": "code",
   "execution_count": 15,
   "metadata": {},
   "outputs": [
    {
     "name": "stdout",
     "output_type": "stream",
     "text": [
      "<class 'pandas.core.frame.DataFrame'>\n",
      "RangeIndex: 66368 entries, 0 to 66367\n",
      "Data columns (total 10 columns):\n",
      " #   Column         Non-Null Count  Dtype \n",
      "---  ------         --------------  ----- \n",
      " 0   permalink      66368 non-null  object\n",
      " 1   name           66367 non-null  object\n",
      " 2   homepage_url   61310 non-null  object\n",
      " 3   category_list  63220 non-null  object\n",
      " 4   status         66368 non-null  object\n",
      " 5   country_code   59410 non-null  object\n",
      " 6   state_code     57821 non-null  object\n",
      " 7   region         58338 non-null  object\n",
      " 8   city           58340 non-null  object\n",
      " 9   founded_at     51147 non-null  object\n",
      "dtypes: object(10)\n",
      "memory usage: 5.1+ MB\n"
     ]
    }
   ],
   "source": [
    "companies.info()"
   ]
  },
  {
   "cell_type": "code",
   "execution_count": 16,
   "metadata": {},
   "outputs": [
    {
     "data": {
      "text/plain": [
       "/ORGANIZATION/SOLARFLARE                    10\n",
       "/organization/solarflare                     9\n",
       "/organization/exagen-diagnostics             9\n",
       "/ORGANIZATION/ENDOGASTRIC-SOLUTIONS          9\n",
       "/ORGANIZATION/QUELLAN                        9\n",
       "                                            ..\n",
       "/organization/buy-local-canada               1\n",
       "/ORGANIZATION/CHROMATIS-NETWORKS             1\n",
       "/organization/ramprate-sourcing-advisors     1\n",
       "/ORGANIZATION/INTELLIGENT-MOBILE-SUPPORT     1\n",
       "/ORGANIZATION/SITATERU                       1\n",
       "Name: company_permalink, Length: 90247, dtype: int64"
      ]
     },
     "execution_count": 16,
     "metadata": {},
     "output_type": "execute_result"
    }
   ],
   "source": [
    "# displaying frequencies of each category\n",
    "rounds2['company_permalink'].value_counts()"
   ]
  },
  {
   "cell_type": "markdown",
   "metadata": {},
   "source": [
    "Observation: Few company_permalink are in lower case and few are in upper case, to get the exact count converting all the company_permalink to lower case"
   ]
  },
  {
   "cell_type": "code",
   "execution_count": 17,
   "metadata": {},
   "outputs": [
    {
     "data": {
      "text/plain": [
       "66370"
      ]
     },
     "execution_count": 17,
     "metadata": {},
     "output_type": "execute_result"
    }
   ],
   "source": [
    "#How many unique companies are present in rounds2?\n",
    "rounds2['company_permalink'] = rounds2['company_permalink'].str.lower()\n",
    "len(rounds2['company_permalink'].unique())"
   ]
  },
  {
   "cell_type": "code",
   "execution_count": 18,
   "metadata": {},
   "outputs": [
    {
     "data": {
      "text/plain": [
       "66368"
      ]
     },
     "execution_count": 18,
     "metadata": {},
     "output_type": "execute_result"
    }
   ],
   "source": [
    "# How many unique companies are present in companies?\n",
    "companies['permalink'] = companies['permalink'].str.lower()\n",
    "len(companies['permalink'].unique())"
   ]
  },
  {
   "cell_type": "markdown",
   "metadata": {},
   "source": [
    "Observation: Two unique values of column 'company_permalink' from rounds2 dataframe are not present in dataframe companies 'permalink' column.\n",
    "\n",
    "Let's observe which company permalinks are in rounds2 but not in companies"
   ]
  },
  {
   "cell_type": "code",
   "execution_count": 19,
   "metadata": {},
   "outputs": [
    {
     "data": {
      "text/html": [
       "<div>\n",
       "<style scoped>\n",
       "    .dataframe tbody tr th:only-of-type {\n",
       "        vertical-align: middle;\n",
       "    }\n",
       "\n",
       "    .dataframe tbody tr th {\n",
       "        vertical-align: top;\n",
       "    }\n",
       "\n",
       "    .dataframe thead th {\n",
       "        text-align: right;\n",
       "    }\n",
       "</style>\n",
       "<table border=\"1\" class=\"dataframe\">\n",
       "  <thead>\n",
       "    <tr style=\"text-align: right;\">\n",
       "      <th></th>\n",
       "      <th>company_permalink</th>\n",
       "      <th>funding_round_permalink</th>\n",
       "      <th>funding_round_type</th>\n",
       "      <th>funding_round_code</th>\n",
       "      <th>funded_at</th>\n",
       "      <th>raised_amount_usd</th>\n",
       "    </tr>\n",
       "  </thead>\n",
       "  <tbody>\n",
       "    <tr>\n",
       "      <th>29597</th>\n",
       "      <td>/organization/e-cãbica</td>\n",
       "      <td>/funding-round/8491f74869e4fe8ba9c378394f8fbdea</td>\n",
       "      <td>seed</td>\n",
       "      <td>NaN</td>\n",
       "      <td>01-02-2015</td>\n",
       "      <td>NaN</td>\n",
       "    </tr>\n",
       "    <tr>\n",
       "      <th>31863</th>\n",
       "      <td>/organization/energystone-games-çµç³æ¸¸æ</td>\n",
       "      <td>/funding-round/b89553f3d2279c5683ae93f45a21cfe0</td>\n",
       "      <td>seed</td>\n",
       "      <td>NaN</td>\n",
       "      <td>09-08-2014</td>\n",
       "      <td>NaN</td>\n",
       "    </tr>\n",
       "    <tr>\n",
       "      <th>45176</th>\n",
       "      <td>/organization/huizuche-com-æ ç§ÿè½¦</td>\n",
       "      <td>/funding-round/8f8a32dbeeb0f831a78702f83af78a36</td>\n",
       "      <td>seed</td>\n",
       "      <td>NaN</td>\n",
       "      <td>18-09-2014</td>\n",
       "      <td>NaN</td>\n",
       "    </tr>\n",
       "    <tr>\n",
       "      <th>58473</th>\n",
       "      <td>/organization/magnet-tech-ç£ç³ç§æ</td>\n",
       "      <td>/funding-round/8fc91fbb32bc95e97f151dd0cb4166bf</td>\n",
       "      <td>seed</td>\n",
       "      <td>NaN</td>\n",
       "      <td>16-08-2014</td>\n",
       "      <td>1625585.0</td>\n",
       "    </tr>\n",
       "    <tr>\n",
       "      <th>101036</th>\n",
       "      <td>/organization/tipcat-interactive-æ²èÿä¿¡æ¯ç...</td>\n",
       "      <td>/funding-round/41005928a1439cb2d706a43cb661f60f</td>\n",
       "      <td>seed</td>\n",
       "      <td>NaN</td>\n",
       "      <td>06-09-2010</td>\n",
       "      <td>NaN</td>\n",
       "    </tr>\n",
       "    <tr>\n",
       "      <th>109969</th>\n",
       "      <td>/organization/weiche-tech-åè½¦ç§æ</td>\n",
       "      <td>/funding-round/f74e457f838b81fa0b29649740f186d8</td>\n",
       "      <td>venture</td>\n",
       "      <td>A</td>\n",
       "      <td>06-09-2015</td>\n",
       "      <td>NaN</td>\n",
       "    </tr>\n",
       "    <tr>\n",
       "      <th>113839</th>\n",
       "      <td>/organization/zengame-ç¦",
       "æ¸¸ç§æ</td>\n",
       "      <td>/funding-round/6ba28fb4f3eadf5a9c6c81bc5dde6cdf</td>\n",
       "      <td>seed</td>\n",
       "      <td>NaN</td>\n",
       "      <td>17-07-2010</td>\n",
       "      <td>NaN</td>\n",
       "    </tr>\n",
       "  </tbody>\n",
       "</table>\n",
       "</div>"
      ],
      "text/plain": [
       "                                        company_permalink  \\\n",
       "29597                             /organization/e-cãbica   \n",
       "31863        /organization/energystone-games-çµç³æ¸¸æ   \n",
       "45176                /organization/huizuche-com-æ ç§ÿè½¦   \n",
       "58473              /organization/magnet-tech-ç£ç³ç§æ   \n",
       "101036  /organization/tipcat-interactive-æ²èÿä¿¡æ¯ç...   \n",
       "109969             /organization/weiche-tech-åè½¦ç§æ   \n",
       "113839                 /organization/zengame-ç¦\n",
       "æ¸¸ç§æ   \n",
       "\n",
       "                                funding_round_permalink funding_round_type  \\\n",
       "29597   /funding-round/8491f74869e4fe8ba9c378394f8fbdea               seed   \n",
       "31863   /funding-round/b89553f3d2279c5683ae93f45a21cfe0               seed   \n",
       "45176   /funding-round/8f8a32dbeeb0f831a78702f83af78a36               seed   \n",
       "58473   /funding-round/8fc91fbb32bc95e97f151dd0cb4166bf               seed   \n",
       "101036  /funding-round/41005928a1439cb2d706a43cb661f60f               seed   \n",
       "109969  /funding-round/f74e457f838b81fa0b29649740f186d8            venture   \n",
       "113839  /funding-round/6ba28fb4f3eadf5a9c6c81bc5dde6cdf               seed   \n",
       "\n",
       "       funding_round_code   funded_at  raised_amount_usd  \n",
       "29597                 NaN  01-02-2015                NaN  \n",
       "31863                 NaN  09-08-2014                NaN  \n",
       "45176                 NaN  18-09-2014                NaN  \n",
       "58473                 NaN  16-08-2014          1625585.0  \n",
       "101036                NaN  06-09-2010                NaN  \n",
       "109969                  A  06-09-2015                NaN  \n",
       "113839                NaN  17-07-2010                NaN  "
      ]
     },
     "execution_count": 19,
     "metadata": {},
     "output_type": "execute_result"
    }
   ],
   "source": [
    "rounds2.loc[~rounds2['company_permalink'].isin(companies['permalink']), :]"
   ]
  },
  {
   "cell_type": "markdown",
   "metadata": {},
   "source": [
    "Observation: Above, We can observe some weird non-english characters, we can also observe these in original dataframe.\n",
    "\n",
    "After researching in google/strackoverflow, found the below solution to resolve the werd char issue.\n",
    "\n",
    "So, aplying the same to companies, round2 whereever comoany names are used"
   ]
  },
  {
   "cell_type": "code",
   "execution_count": 20,
   "metadata": {},
   "outputs": [],
   "source": [
    "rounds2.company_permalink = rounds2.company_permalink.str.encode('ISO-8859-1').str.decode('ascii', 'ignore')\n",
    "companies.permalink = companies.permalink.str.encode('ISO-8859-1').str.decode('ascii', 'ignore')\n",
    "companies.name = companies.name.str.encode('ISO-8859-1').str.decode('ascii', 'ignore')"
   ]
  },
  {
   "cell_type": "markdown",
   "metadata": {},
   "source": [
    "Now after applying the encoding decoding again checking hte unique companies present in round2 and companies"
   ]
  },
  {
   "cell_type": "code",
   "execution_count": 21,
   "metadata": {},
   "outputs": [],
   "source": [
    "tempRounds2 = pd.DataFrame(rounds2.company_permalink.unique())\n",
    "tempCompanies = pd.DataFrame(companies.permalink.unique())"
   ]
  },
  {
   "cell_type": "code",
   "execution_count": 22,
   "metadata": {},
   "outputs": [
    {
     "data": {
      "text/plain": [
       "66368"
      ]
     },
     "execution_count": 22,
     "metadata": {},
     "output_type": "execute_result"
    }
   ],
   "source": [
    "#How many unique companies are present in rounds2?\n",
    "len(tempRounds2)"
   ]
  },
  {
   "cell_type": "markdown",
   "metadata": {},
   "source": [
    "Question: How many unique companies are present in rounds2?\n",
    "\n",
    "Answer: 66368"
   ]
  },
  {
   "cell_type": "code",
   "execution_count": 23,
   "metadata": {},
   "outputs": [
    {
     "data": {
      "text/plain": [
       "66368"
      ]
     },
     "execution_count": 23,
     "metadata": {},
     "output_type": "execute_result"
    }
   ],
   "source": [
    "# How many unique companies are present in companies?\n",
    "len(tempCompanies)"
   ]
  },
  {
   "cell_type": "markdown",
   "metadata": {},
   "source": [
    "Question: How many unique companies are present in companies?\n",
    "\n",
    "Answer: 66368"
   ]
  },
  {
   "cell_type": "markdown",
   "metadata": {},
   "source": [
    "Observation: Count of unique companies present in both round2 and comapnies are same\n",
    "\n",
    "Let's lets compare if any companies in the rounds2 file which are not present in companies?"
   ]
  },
  {
   "cell_type": "code",
   "execution_count": 24,
   "metadata": {},
   "outputs": [
    {
     "name": "stdout",
     "output_type": "stream",
     "text": [
      "True\n",
      "0\n"
     ]
    }
   ],
   "source": [
    "#Are there any companies in the rounds2 file which are not present in companies? Comparing permalink in both the dataframes\n",
    "print(tempCompanies.equals(tempRounds2))\n",
    "print(len(set(companies['permalink'].unique()).difference(set(rounds2['company_permalink'].unique()))))"
   ]
  },
  {
   "cell_type": "markdown",
   "metadata": {},
   "source": [
    "Observation: As permalink in both the dataframes are same, it gives \"True\".\n",
    "So, there are no companies in the rounds2 file which are not present in companies. \n",
    "\n",
    "\n",
    "Question: Are there any companies in the rounds2 file which are not present in companies? Answer yes or no: Y/N\n",
    "\n",
    "Answer: \"N\"."
   ]
  },
  {
   "cell_type": "code",
   "execution_count": 25,
   "metadata": {},
   "outputs": [
    {
     "data": {
      "text/plain": [
       "/organization/ies                      1\n",
       "/organization/phase-iii-development    1\n",
       "/organization/dafiti                   1\n",
       "/organization/stonecastle-partners     1\n",
       "/organization/scorebird                1\n",
       "                                      ..\n",
       "/organization/copilot-labs             1\n",
       "/organization/vena-solutions           1\n",
       "/organization/sionic-mobile            1\n",
       "/organization/ener-co                  1\n",
       "/organization/toxic-attire             1\n",
       "Name: permalink, Length: 66368, dtype: int64"
      ]
     },
     "execution_count": 25,
     "metadata": {},
     "output_type": "execute_result"
    }
   ],
   "source": [
    "#In the companies data frame, which column can be used as the unique key for each company? Write the name of the column.\n",
    "companies['permalink'].value_counts()"
   ]
  },
  {
   "cell_type": "markdown",
   "metadata": {},
   "source": [
    "\"permalink\" can be used as unique key for each company, if we consider other columns like name there can be duplicate entries.\n",
    "\n",
    "In the companies data frame, which column can be used as the unique key for each company?\n",
    "\n",
    "Answer: permalink <br>\n"
   ]
  },
  {
   "cell_type": "markdown",
   "metadata": {},
   "source": [
    "Merge the two data frames using inner so that all variables (columns) in the companies frame are added to the rounds2 data frame.\n",
    "Name the merged frame master_framea and count the number of rows and columns of th master_farme"
   ]
  },
  {
   "cell_type": "code",
   "execution_count": 26,
   "metadata": {},
   "outputs": [
    {
     "name": "stdout",
     "output_type": "stream",
     "text": [
      "114949\n",
      "(114949, 16)\n"
     ]
    }
   ],
   "source": [
    "#Merge the two data frames so that all variables (columns) in the companies frame are added to the rounds2 data frame. Name the merged frame master_frame.\n",
    "master_frame = pd.merge(rounds2, companies, how = 'inner', left_on = 'company_permalink', right_on = 'permalink')\n",
    "print(len(master_frame.index))\n",
    "print((master_frame.shape))"
   ]
  },
  {
   "cell_type": "markdown",
   "metadata": {},
   "source": [
    "Observation: 114949 rows after merging the two dataframes.\n",
    "\n",
    "Question: How many observations are present in master_frame?\n",
    "\n",
    "Answer: 114949"
   ]
  },
  {
   "cell_type": "code",
   "execution_count": 27,
   "metadata": {},
   "outputs": [
    {
     "data": {
      "text/html": [
       "<div>\n",
       "<style scoped>\n",
       "    .dataframe tbody tr th:only-of-type {\n",
       "        vertical-align: middle;\n",
       "    }\n",
       "\n",
       "    .dataframe tbody tr th {\n",
       "        vertical-align: top;\n",
       "    }\n",
       "\n",
       "    .dataframe thead th {\n",
       "        text-align: right;\n",
       "    }\n",
       "</style>\n",
       "<table border=\"1\" class=\"dataframe\">\n",
       "  <thead>\n",
       "    <tr style=\"text-align: right;\">\n",
       "      <th></th>\n",
       "      <th>company_permalink</th>\n",
       "      <th>funding_round_permalink</th>\n",
       "      <th>funding_round_type</th>\n",
       "      <th>funding_round_code</th>\n",
       "      <th>funded_at</th>\n",
       "      <th>raised_amount_usd</th>\n",
       "      <th>permalink</th>\n",
       "      <th>name</th>\n",
       "      <th>homepage_url</th>\n",
       "      <th>category_list</th>\n",
       "      <th>status</th>\n",
       "      <th>country_code</th>\n",
       "      <th>state_code</th>\n",
       "      <th>region</th>\n",
       "      <th>city</th>\n",
       "      <th>founded_at</th>\n",
       "    </tr>\n",
       "  </thead>\n",
       "  <tbody>\n",
       "    <tr>\n",
       "      <th>0</th>\n",
       "      <td>/organization/-fame</td>\n",
       "      <td>/funding-round/9a01d05418af9f794eebff7ace91f638</td>\n",
       "      <td>venture</td>\n",
       "      <td>B</td>\n",
       "      <td>05-01-2015</td>\n",
       "      <td>10000000.0</td>\n",
       "      <td>/organization/-fame</td>\n",
       "      <td>#fame</td>\n",
       "      <td>http://livfame.com</td>\n",
       "      <td>Media</td>\n",
       "      <td>operating</td>\n",
       "      <td>IND</td>\n",
       "      <td>16</td>\n",
       "      <td>Mumbai</td>\n",
       "      <td>Mumbai</td>\n",
       "      <td>NaN</td>\n",
       "    </tr>\n",
       "    <tr>\n",
       "      <th>1</th>\n",
       "      <td>/organization/-qounter</td>\n",
       "      <td>/funding-round/22dacff496eb7acb2b901dec1dfe5633</td>\n",
       "      <td>venture</td>\n",
       "      <td>A</td>\n",
       "      <td>14-10-2014</td>\n",
       "      <td>NaN</td>\n",
       "      <td>/organization/-qounter</td>\n",
       "      <td>:Qounter</td>\n",
       "      <td>http://www.qounter.com</td>\n",
       "      <td>Application Platforms|Real Time|Social Network...</td>\n",
       "      <td>operating</td>\n",
       "      <td>USA</td>\n",
       "      <td>DE</td>\n",
       "      <td>DE - Other</td>\n",
       "      <td>Delaware City</td>\n",
       "      <td>04-09-2014</td>\n",
       "    </tr>\n",
       "    <tr>\n",
       "      <th>2</th>\n",
       "      <td>/organization/-qounter</td>\n",
       "      <td>/funding-round/b44fbb94153f6cdef13083530bb48030</td>\n",
       "      <td>seed</td>\n",
       "      <td>NaN</td>\n",
       "      <td>01-03-2014</td>\n",
       "      <td>700000.0</td>\n",
       "      <td>/organization/-qounter</td>\n",
       "      <td>:Qounter</td>\n",
       "      <td>http://www.qounter.com</td>\n",
       "      <td>Application Platforms|Real Time|Social Network...</td>\n",
       "      <td>operating</td>\n",
       "      <td>USA</td>\n",
       "      <td>DE</td>\n",
       "      <td>DE - Other</td>\n",
       "      <td>Delaware City</td>\n",
       "      <td>04-09-2014</td>\n",
       "    </tr>\n",
       "    <tr>\n",
       "      <th>3</th>\n",
       "      <td>/organization/-the-one-of-them-inc-</td>\n",
       "      <td>/funding-round/650b8f704416801069bb178a1418776b</td>\n",
       "      <td>venture</td>\n",
       "      <td>B</td>\n",
       "      <td>30-01-2014</td>\n",
       "      <td>3406878.0</td>\n",
       "      <td>/organization/-the-one-of-them-inc-</td>\n",
       "      <td>(THE) ONE of THEM,Inc.</td>\n",
       "      <td>http://oneofthem.jp</td>\n",
       "      <td>Apps|Games|Mobile</td>\n",
       "      <td>operating</td>\n",
       "      <td>NaN</td>\n",
       "      <td>NaN</td>\n",
       "      <td>NaN</td>\n",
       "      <td>NaN</td>\n",
       "      <td>NaN</td>\n",
       "    </tr>\n",
       "    <tr>\n",
       "      <th>4</th>\n",
       "      <td>/organization/0-6-com</td>\n",
       "      <td>/funding-round/5727accaeaa57461bd22a9bdd945382d</td>\n",
       "      <td>venture</td>\n",
       "      <td>A</td>\n",
       "      <td>19-03-2008</td>\n",
       "      <td>2000000.0</td>\n",
       "      <td>/organization/0-6-com</td>\n",
       "      <td>0-6.com</td>\n",
       "      <td>http://www.0-6.com</td>\n",
       "      <td>Curated Web</td>\n",
       "      <td>operating</td>\n",
       "      <td>CHN</td>\n",
       "      <td>22</td>\n",
       "      <td>Beijing</td>\n",
       "      <td>Beijing</td>\n",
       "      <td>01-01-2007</td>\n",
       "    </tr>\n",
       "  </tbody>\n",
       "</table>\n",
       "</div>"
      ],
      "text/plain": [
       "                     company_permalink  \\\n",
       "0                  /organization/-fame   \n",
       "1               /organization/-qounter   \n",
       "2               /organization/-qounter   \n",
       "3  /organization/-the-one-of-them-inc-   \n",
       "4                /organization/0-6-com   \n",
       "\n",
       "                           funding_round_permalink funding_round_type  \\\n",
       "0  /funding-round/9a01d05418af9f794eebff7ace91f638            venture   \n",
       "1  /funding-round/22dacff496eb7acb2b901dec1dfe5633            venture   \n",
       "2  /funding-round/b44fbb94153f6cdef13083530bb48030               seed   \n",
       "3  /funding-round/650b8f704416801069bb178a1418776b            venture   \n",
       "4  /funding-round/5727accaeaa57461bd22a9bdd945382d            venture   \n",
       "\n",
       "  funding_round_code   funded_at  raised_amount_usd  \\\n",
       "0                  B  05-01-2015         10000000.0   \n",
       "1                  A  14-10-2014                NaN   \n",
       "2                NaN  01-03-2014           700000.0   \n",
       "3                  B  30-01-2014          3406878.0   \n",
       "4                  A  19-03-2008          2000000.0   \n",
       "\n",
       "                             permalink                    name  \\\n",
       "0                  /organization/-fame                   #fame   \n",
       "1               /organization/-qounter                :Qounter   \n",
       "2               /organization/-qounter                :Qounter   \n",
       "3  /organization/-the-one-of-them-inc-  (THE) ONE of THEM,Inc.   \n",
       "4                /organization/0-6-com                 0-6.com   \n",
       "\n",
       "             homepage_url                                      category_list  \\\n",
       "0      http://livfame.com                                              Media   \n",
       "1  http://www.qounter.com  Application Platforms|Real Time|Social Network...   \n",
       "2  http://www.qounter.com  Application Platforms|Real Time|Social Network...   \n",
       "3     http://oneofthem.jp                                  Apps|Games|Mobile   \n",
       "4      http://www.0-6.com                                        Curated Web   \n",
       "\n",
       "      status country_code state_code      region           city  founded_at  \n",
       "0  operating          IND         16      Mumbai         Mumbai         NaN  \n",
       "1  operating          USA         DE  DE - Other  Delaware City  04-09-2014  \n",
       "2  operating          USA         DE  DE - Other  Delaware City  04-09-2014  \n",
       "3  operating          NaN        NaN         NaN            NaN         NaN  \n",
       "4  operating          CHN         22     Beijing        Beijing  01-01-2007  "
      ]
     },
     "execution_count": 27,
     "metadata": {},
     "output_type": "execute_result"
    }
   ],
   "source": [
    "master_frame.head()"
   ]
  },
  {
   "cell_type": "markdown",
   "metadata": {},
   "source": [
    "### Missing Value Treatment\n",
    "Let's now move to missing value treatment.\n",
    "\n",
    "Let's have a look at the number of missing values in master dataframe."
   ]
  },
  {
   "cell_type": "code",
   "execution_count": 28,
   "metadata": {},
   "outputs": [
    {
     "data": {
      "text/plain": [
       "company_permalink              0\n",
       "funding_round_permalink        0\n",
       "funding_round_type             0\n",
       "funding_round_code         83809\n",
       "funded_at                      0\n",
       "raised_amount_usd          19990\n",
       "permalink                      0\n",
       "name                           1\n",
       "homepage_url                6134\n",
       "category_list               3410\n",
       "status                         0\n",
       "country_code                8678\n",
       "state_code                 10946\n",
       "region                     10167\n",
       "city                       10164\n",
       "founded_at                 20521\n",
       "dtype: int64"
      ]
     },
     "execution_count": 28,
     "metadata": {},
     "output_type": "execute_result"
    }
   ],
   "source": [
    "# missing values in master_frame df\n",
    "master_frame.isnull().sum()"
   ]
  },
  {
   "cell_type": "markdown",
   "metadata": {},
   "source": [
    "Observation: There are 19990 missing values in raised_amount_usd column, 8678 missing values in country_code, 3410 missing values in category_list. We need to fill them appropriately\n",
    "\n",
    "Let's look at the fraction of missing values in the columns."
   ]
  },
  {
   "cell_type": "code",
   "execution_count": 29,
   "metadata": {},
   "outputs": [
    {
     "data": {
      "text/plain": [
       "company_permalink           0.00\n",
       "funding_round_permalink     0.00\n",
       "funding_round_type          0.00\n",
       "funding_round_code         72.91\n",
       "funded_at                   0.00\n",
       "raised_amount_usd          17.39\n",
       "permalink                   0.00\n",
       "name                        0.00\n",
       "homepage_url                5.34\n",
       "category_list               2.97\n",
       "status                      0.00\n",
       "country_code                7.55\n",
       "state_code                  9.52\n",
       "region                      8.84\n",
       "city                        8.84\n",
       "founded_at                 17.85\n",
       "dtype: float64"
      ]
     },
     "execution_count": 29,
     "metadata": {},
     "output_type": "execute_result"
    }
   ],
   "source": [
    "# summing up the missing values (column-wise) and displaying fraction of NaNs\n",
    "round(100*(master_frame.isnull().sum()/len(master_frame.index)), 2)"
   ]
  },
  {
   "cell_type": "markdown",
   "metadata": {},
   "source": [
    "Observation: There are 17.39% missing values in raised_amount_usd column, 7.55% missing values in country_code, 2.97% missing values in category_list. We remove all the null values.\n"
   ]
  },
  {
   "cell_type": "code",
   "execution_count": 30,
   "metadata": {},
   "outputs": [],
   "source": [
    "# removing null values of raised_amount_usd, country_code, category_list columns\n",
    "master_frame = master_frame[~(master_frame['raised_amount_usd'].isnull() | master_frame['country_code'].isnull() |\n",
    "                             master_frame['category_list'].isnull())]"
   ]
  },
  {
   "cell_type": "code",
   "execution_count": 31,
   "metadata": {},
   "outputs": [],
   "source": [
    "# Dropping unnecessary and redundant columns \n",
    "master_frame = master_frame.drop(['funding_round_code', 'funding_round_permalink', 'funded_at','company_permalink', 'homepage_url',\n",
    "                                 'state_code', 'region', 'city', 'founded_at','status'], axis = 1)"
   ]
  },
  {
   "cell_type": "code",
   "execution_count": 32,
   "metadata": {},
   "outputs": [
    {
     "data": {
      "text/plain": [
       "funding_round_type    0\n",
       "raised_amount_usd     0\n",
       "permalink             0\n",
       "name                  1\n",
       "category_list         0\n",
       "country_code          0\n",
       "dtype: int64"
      ]
     },
     "execution_count": 32,
     "metadata": {},
     "output_type": "execute_result"
    }
   ],
   "source": [
    "#master_frame['raised_amount_usd'].value_counts()\n",
    "master_frame.isnull().sum()"
   ]
  },
  {
   "cell_type": "code",
   "execution_count": 33,
   "metadata": {},
   "outputs": [
    {
     "name": "stdout",
     "output_type": "stream",
     "text": [
      "funding_round_type    0.0\n",
      "raised_amount_usd     0.0\n",
      "permalink             0.0\n",
      "name                  0.0\n",
      "category_list         0.0\n",
      "country_code          0.0\n",
      "dtype: float64\n"
     ]
    }
   ],
   "source": [
    "# again summing up the missing values (column-wise) and displaying fraction of NaNs\n",
    "print(round(100*(master_frame.isnull().sum()/len(master_frame.index)), 2))"
   ]
  },
  {
   "cell_type": "code",
   "execution_count": 34,
   "metadata": {},
   "outputs": [
    {
     "data": {
      "text/plain": [
       "venture                  47809\n",
       "seed                     21095\n",
       "debt_financing            6506\n",
       "angel                     4400\n",
       "grant                     1939\n",
       "private_equity            1820\n",
       "undisclosed               1345\n",
       "convertible_note          1320\n",
       "equity_crowdfunding       1128\n",
       "post_ipo_equity            598\n",
       "product_crowdfunding       330\n",
       "post_ipo_debt              151\n",
       "non_equity_assistance       60\n",
       "secondary_market            28\n",
       "Name: funding_round_type, dtype: int64"
      ]
     },
     "execution_count": 34,
     "metadata": {},
     "output_type": "execute_result"
    }
   ],
   "source": [
    "master_frame.funding_round_type.value_counts()"
   ]
  },
  {
   "cell_type": "code",
   "execution_count": 35,
   "metadata": {},
   "outputs": [
    {
     "data": {
      "text/plain": [
       "(88529, 6)"
      ]
     },
     "execution_count": 35,
     "metadata": {},
     "output_type": "execute_result"
    }
   ],
   "source": [
    "master_frame.shape"
   ]
  },
  {
   "cell_type": "markdown",
   "metadata": {},
   "source": [
    "## Checkpoint 2: Funding Type Analysis"
   ]
  },
  {
   "cell_type": "markdown",
   "metadata": {},
   "source": [
    "Calculating the most representative value of the investment amount for each of the four funding types (venture, angel, seed, and private equity)"
   ]
  },
  {
   "cell_type": "code",
   "execution_count": 36,
   "metadata": {},
   "outputs": [],
   "source": [
    "# removing other columns except venture, angel, seed, and private equity\n",
    "master_frame = master_frame[(master_frame['funding_round_type'] == 'venture')\n",
    "                            | (master_frame['funding_round_type'] == 'seed')\n",
    "                            | (master_frame['funding_round_type'] == 'angel')\n",
    "                            | (master_frame['funding_round_type'] == 'private_equity')]"
   ]
  },
  {
   "cell_type": "code",
   "execution_count": 37,
   "metadata": {},
   "outputs": [
    {
     "data": {
      "text/html": [
       "<div>\n",
       "<style scoped>\n",
       "    .dataframe tbody tr th:only-of-type {\n",
       "        vertical-align: middle;\n",
       "    }\n",
       "\n",
       "    .dataframe tbody tr th {\n",
       "        vertical-align: top;\n",
       "    }\n",
       "\n",
       "    .dataframe thead th {\n",
       "        text-align: right;\n",
       "    }\n",
       "</style>\n",
       "<table border=\"1\" class=\"dataframe\">\n",
       "  <thead>\n",
       "    <tr style=\"text-align: right;\">\n",
       "      <th></th>\n",
       "      <th>funding_round_type</th>\n",
       "      <th>raised_amount_usd</th>\n",
       "    </tr>\n",
       "  </thead>\n",
       "  <tbody>\n",
       "    <tr>\n",
       "      <th>0</th>\n",
       "      <td>angel</td>\n",
       "      <td>971573.89</td>\n",
       "    </tr>\n",
       "    <tr>\n",
       "      <th>1</th>\n",
       "      <td>private_equity</td>\n",
       "      <td>73938486.28</td>\n",
       "    </tr>\n",
       "    <tr>\n",
       "      <th>2</th>\n",
       "      <td>seed</td>\n",
       "      <td>747793.68</td>\n",
       "    </tr>\n",
       "    <tr>\n",
       "      <th>3</th>\n",
       "      <td>venture</td>\n",
       "      <td>11724222.69</td>\n",
       "    </tr>\n",
       "  </tbody>\n",
       "</table>\n",
       "</div>"
      ],
      "text/plain": [
       "  funding_round_type  raised_amount_usd\n",
       "0              angel          971573.89\n",
       "1     private_equity        73938486.28\n",
       "2               seed          747793.68\n",
       "3            venture        11724222.69"
      ]
     },
     "execution_count": 37,
     "metadata": {},
     "output_type": "execute_result"
    }
   ],
   "source": [
    "#calculating average investment amount for each of the four funding types.\n",
    "round(master_frame.groupby('funding_round_type').raised_amount_usd.mean().reset_index(), 2)"
   ]
  },
  {
   "cell_type": "markdown",
   "metadata": {},
   "source": [
    "Above are the Representative Values of Investments for Each of these Funding Types"
   ]
  },
  {
   "cell_type": "code",
   "execution_count": 38,
   "metadata": {},
   "outputs": [
    {
     "data": {
      "text/plain": [
       "count    7.512400e+04\n",
       "mean     9.519475e+06\n",
       "std      7.792778e+07\n",
       "min      0.000000e+00\n",
       "25%      4.705852e+05\n",
       "50%      2.000000e+06\n",
       "75%      8.000000e+06\n",
       "max      1.760000e+10\n",
       "Name: raised_amount_usd, dtype: float64"
      ]
     },
     "execution_count": 38,
     "metadata": {},
     "output_type": "execute_result"
    }
   ],
   "source": [
    "master_frame.raised_amount_usd.describe()"
   ]
  },
  {
   "cell_type": "markdown",
   "metadata": {},
   "source": [
    "Based on the most representative investment amount calculated above, find the investment type that is the most suitable for Spark Funds. Spark Funds wants to invest between 5 to 15 million USD per investment round. "
   ]
  },
  {
   "cell_type": "code",
   "execution_count": 39,
   "metadata": {},
   "outputs": [
    {
     "data": {
      "text/html": [
       "<div>\n",
       "<style scoped>\n",
       "    .dataframe tbody tr th:only-of-type {\n",
       "        vertical-align: middle;\n",
       "    }\n",
       "\n",
       "    .dataframe tbody tr th {\n",
       "        vertical-align: top;\n",
       "    }\n",
       "\n",
       "    .dataframe thead th {\n",
       "        text-align: right;\n",
       "    }\n",
       "</style>\n",
       "<table border=\"1\" class=\"dataframe\">\n",
       "  <thead>\n",
       "    <tr style=\"text-align: right;\">\n",
       "      <th></th>\n",
       "      <th>funding_round_type</th>\n",
       "      <th>raised_amount_usd</th>\n",
       "    </tr>\n",
       "  </thead>\n",
       "  <tbody>\n",
       "    <tr>\n",
       "      <th>3</th>\n",
       "      <td>venture</td>\n",
       "      <td>1.172422e+07</td>\n",
       "    </tr>\n",
       "  </tbody>\n",
       "</table>\n",
       "</div>"
      ],
      "text/plain": [
       "  funding_round_type  raised_amount_usd\n",
       "3            venture       1.172422e+07"
      ]
     },
     "execution_count": 39,
     "metadata": {},
     "output_type": "execute_result"
    }
   ],
   "source": [
    "funding_round_type = master_frame.groupby('funding_round_type').raised_amount_usd.mean().reset_index()\n",
    "\n",
    "# Applying business restrictions and making sure to filter out values not included \n",
    "funding_round_type = funding_round_type.loc[ (funding_round_type.raised_amount_usd >= 5000000) & \n",
    "                                             (funding_round_type.raised_amount_usd <= 15000000)]\n",
    "\n",
    "# Sorting vales as per amount\n",
    "funding_round_type.sort_values([\"raised_amount_usd\"], axis=0,ascending=False, inplace=True)\n",
    " \n",
    " # Get the top value    \n",
    "funding_round_type"
   ]
  },
  {
   "cell_type": "markdown",
   "metadata": {},
   "source": [
    "Observation: Spark Funds wants to invest between 5 to 15 million USD per investment round, as per above result we can \"venture\" is to invest between 5 to 15 million USD per investment"
   ]
  },
  {
   "cell_type": "markdown",
   "metadata": {},
   "source": [
    "Qestion: which investment type is the most suitable for it?\n",
    "\n",
    "Answer: venture"
   ]
  },
  {
   "cell_type": "markdown",
   "metadata": {},
   "source": [
    "Filter the data so it only contains the \"venture investment type."
   ]
  },
  {
   "cell_type": "code",
   "execution_count": 40,
   "metadata": {},
   "outputs": [
    {
     "data": {
      "text/plain": [
       "(47809, 6)"
      ]
     },
     "execution_count": 40,
     "metadata": {},
     "output_type": "execute_result"
    }
   ],
   "source": [
    "# Removing other funding_round_type columns except venture as Spark Funds wants to invest between 5 to 15 million USD per investment round\n",
    "venture_frame = master_frame[master_frame['funding_round_type'] == 'venture']\n",
    "venture_frame.shape"
   ]
  },
  {
   "cell_type": "markdown",
   "metadata": {},
   "source": [
    "## Checkpoint 3: Country Analysis"
   ]
  },
  {
   "cell_type": "markdown",
   "metadata": {},
   "source": [
    "#### Sorting dataframes"
   ]
  },
  {
   "cell_type": "markdown",
   "metadata": {},
   "source": [
    "Let's see top nine countries which have received the highest total funding (across ALL sectors for the chosen investment type)"
   ]
  },
  {
   "cell_type": "code",
   "execution_count": 41,
   "metadata": {},
   "outputs": [
    {
     "data": {
      "text/html": [
       "<div>\n",
       "<style scoped>\n",
       "    .dataframe tbody tr th:only-of-type {\n",
       "        vertical-align: middle;\n",
       "    }\n",
       "\n",
       "    .dataframe tbody tr th {\n",
       "        vertical-align: top;\n",
       "    }\n",
       "\n",
       "    .dataframe thead th {\n",
       "        text-align: right;\n",
       "    }\n",
       "</style>\n",
       "<table border=\"1\" class=\"dataframe\">\n",
       "  <thead>\n",
       "    <tr style=\"text-align: right;\">\n",
       "      <th></th>\n",
       "      <th>country_code</th>\n",
       "      <th>raised_amount_usd</th>\n",
       "    </tr>\n",
       "  </thead>\n",
       "  <tbody>\n",
       "    <tr>\n",
       "      <th>94</th>\n",
       "      <td>USA</td>\n",
       "      <td>4.200680e+11</td>\n",
       "    </tr>\n",
       "    <tr>\n",
       "      <th>15</th>\n",
       "      <td>CHN</td>\n",
       "      <td>3.933892e+10</td>\n",
       "    </tr>\n",
       "    <tr>\n",
       "      <th>29</th>\n",
       "      <td>GBR</td>\n",
       "      <td>2.007281e+10</td>\n",
       "    </tr>\n",
       "    <tr>\n",
       "      <th>39</th>\n",
       "      <td>IND</td>\n",
       "      <td>1.426151e+10</td>\n",
       "    </tr>\n",
       "    <tr>\n",
       "      <th>12</th>\n",
       "      <td>CAN</td>\n",
       "      <td>9.482218e+09</td>\n",
       "    </tr>\n",
       "    <tr>\n",
       "      <th>28</th>\n",
       "      <td>FRA</td>\n",
       "      <td>7.226851e+09</td>\n",
       "    </tr>\n",
       "    <tr>\n",
       "      <th>42</th>\n",
       "      <td>ISR</td>\n",
       "      <td>6.854350e+09</td>\n",
       "    </tr>\n",
       "    <tr>\n",
       "      <th>21</th>\n",
       "      <td>DEU</td>\n",
       "      <td>6.306922e+09</td>\n",
       "    </tr>\n",
       "    <tr>\n",
       "      <th>45</th>\n",
       "      <td>JPN</td>\n",
       "      <td>3.167647e+09</td>\n",
       "    </tr>\n",
       "  </tbody>\n",
       "</table>\n",
       "</div>"
      ],
      "text/plain": [
       "   country_code  raised_amount_usd\n",
       "94          USA       4.200680e+11\n",
       "15          CHN       3.933892e+10\n",
       "29          GBR       2.007281e+10\n",
       "39          IND       1.426151e+10\n",
       "12          CAN       9.482218e+09\n",
       "28          FRA       7.226851e+09\n",
       "42          ISR       6.854350e+09\n",
       "21          DEU       6.306922e+09\n",
       "45          JPN       3.167647e+09"
      ]
     },
     "execution_count": 41,
     "metadata": {},
     "output_type": "execute_result"
    }
   ],
   "source": [
    "# Calculating total sum country wise\n",
    "top9 = round(venture_frame.groupby(\"country_code\").raised_amount_usd.sum().reset_index(),2)\n",
    "\n",
    "# Seleting top 9 countries \n",
    "top9 = top9.sort_values(by = 'raised_amount_usd', ascending = False)\n",
    "top9 = top9.iloc[:9, ]\n",
    "top9"
   ]
  },
  {
   "cell_type": "markdown",
   "metadata": {},
   "source": [
    "Table 3.1: Analysing the Top 3 English-Speaking Countries\n",
    "\n",
    " 1. Top English-speaking country            \n",
    " 2. Second English-speaking country\n",
    " 3. Third English-speaking country"
   ]
  },
  {
   "cell_type": "markdown",
   "metadata": {},
   "source": [
    "Analysing the Top 3 English-Speaking Countries, took top 9 english speaking countires from internet and extracting top 3 english speaking countries present in above top nine countries which have received the highest total funding"
   ]
  },
  {
   "cell_type": "code",
   "execution_count": 42,
   "metadata": {},
   "outputs": [
    {
     "data": {
      "text/html": [
       "<div>\n",
       "<style scoped>\n",
       "    .dataframe tbody tr th:only-of-type {\n",
       "        vertical-align: middle;\n",
       "    }\n",
       "\n",
       "    .dataframe tbody tr th {\n",
       "        vertical-align: top;\n",
       "    }\n",
       "\n",
       "    .dataframe thead th {\n",
       "        text-align: right;\n",
       "    }\n",
       "</style>\n",
       "<table border=\"1\" class=\"dataframe\">\n",
       "  <thead>\n",
       "    <tr style=\"text-align: right;\">\n",
       "      <th></th>\n",
       "      <th>country_code</th>\n",
       "      <th>raised_amount_usd</th>\n",
       "    </tr>\n",
       "  </thead>\n",
       "  <tbody>\n",
       "    <tr>\n",
       "      <th>94</th>\n",
       "      <td>USA</td>\n",
       "      <td>4.200680e+11</td>\n",
       "    </tr>\n",
       "    <tr>\n",
       "      <th>29</th>\n",
       "      <td>GBR</td>\n",
       "      <td>2.007281e+10</td>\n",
       "    </tr>\n",
       "    <tr>\n",
       "      <th>39</th>\n",
       "      <td>IND</td>\n",
       "      <td>1.426151e+10</td>\n",
       "    </tr>\n",
       "  </tbody>\n",
       "</table>\n",
       "</div>"
      ],
      "text/plain": [
       "   country_code  raised_amount_usd\n",
       "94          USA       4.200680e+11\n",
       "29          GBR       2.007281e+10\n",
       "39          IND       1.426151e+10"
      ]
     },
     "execution_count": 42,
     "metadata": {},
     "output_type": "execute_result"
    }
   ],
   "source": [
    "# Sample list created by online refernce for top 9 english speaking counties\n",
    "top9_english_speaking_countries = ['USA','AUS','CAN','IND','BMU','GBR','NZL','GIB','IRL']\n",
    "\n",
    "# Top 3 English-Speaking Countries\n",
    "top3_funded = top9.loc[top9.country_code.isin(top9_english_speaking_countries)].head(3)\n",
    "top3_funded"
   ]
  },
  {
   "cell_type": "markdown",
   "metadata": {},
   "source": [
    "Observation: USA, GBR, IND are the Top 3 English-Speaking Countries in top nine countries which have received the highest total funding\n",
    "\n",
    "Question: Top 3 English-Speaking Countries\n",
    "Answer: \n",
    "Top English-speaking country - USA\n",
    "Second English-speaking country - GBR\n",
    "Third English-speaking country - IND"
   ]
  },
  {
   "cell_type": "code",
   "execution_count": 43,
   "metadata": {},
   "outputs": [],
   "source": [
    "#Retaining rows with only USA, GBR and IND country_codes. As SparksFunds wants to invest in only top three English speaking countries.\n",
    "venture_frame = venture_frame[(venture_frame['country_code'] == 'USA')\n",
    "                            | (venture_frame['country_code'] == 'GBR')\n",
    "                            | (venture_frame['country_code'] == 'IND')]"
   ]
  },
  {
   "cell_type": "code",
   "execution_count": 44,
   "metadata": {},
   "outputs": [
    {
     "data": {
      "text/html": [
       "<div>\n",
       "<style scoped>\n",
       "    .dataframe tbody tr th:only-of-type {\n",
       "        vertical-align: middle;\n",
       "    }\n",
       "\n",
       "    .dataframe tbody tr th {\n",
       "        vertical-align: top;\n",
       "    }\n",
       "\n",
       "    .dataframe thead th {\n",
       "        text-align: right;\n",
       "    }\n",
       "</style>\n",
       "<table border=\"1\" class=\"dataframe\">\n",
       "  <thead>\n",
       "    <tr style=\"text-align: right;\">\n",
       "      <th></th>\n",
       "      <th>funding_round_type</th>\n",
       "      <th>raised_amount_usd</th>\n",
       "      <th>permalink</th>\n",
       "      <th>name</th>\n",
       "      <th>category_list</th>\n",
       "      <th>country_code</th>\n",
       "    </tr>\n",
       "  </thead>\n",
       "  <tbody>\n",
       "    <tr>\n",
       "      <th>0</th>\n",
       "      <td>venture</td>\n",
       "      <td>10000000.0</td>\n",
       "      <td>/organization/-fame</td>\n",
       "      <td>#fame</td>\n",
       "      <td>Media</td>\n",
       "      <td>IND</td>\n",
       "    </tr>\n",
       "    <tr>\n",
       "      <th>10</th>\n",
       "      <td>venture</td>\n",
       "      <td>20000000.0</td>\n",
       "      <td>/organization/0xdata</td>\n",
       "      <td>H2O.ai</td>\n",
       "      <td>Analytics</td>\n",
       "      <td>USA</td>\n",
       "    </tr>\n",
       "    <tr>\n",
       "      <th>11</th>\n",
       "      <td>venture</td>\n",
       "      <td>1700000.0</td>\n",
       "      <td>/organization/0xdata</td>\n",
       "      <td>H2O.ai</td>\n",
       "      <td>Analytics</td>\n",
       "      <td>USA</td>\n",
       "    </tr>\n",
       "    <tr>\n",
       "      <th>12</th>\n",
       "      <td>venture</td>\n",
       "      <td>8900000.0</td>\n",
       "      <td>/organization/0xdata</td>\n",
       "      <td>H2O.ai</td>\n",
       "      <td>Analytics</td>\n",
       "      <td>USA</td>\n",
       "    </tr>\n",
       "    <tr>\n",
       "      <th>22</th>\n",
       "      <td>venture</td>\n",
       "      <td>5000000.0</td>\n",
       "      <td>/organization/1-mainstream</td>\n",
       "      <td>1 Mainstream</td>\n",
       "      <td>Apps|Cable|Distribution|Software</td>\n",
       "      <td>USA</td>\n",
       "    </tr>\n",
       "  </tbody>\n",
       "</table>\n",
       "</div>"
      ],
      "text/plain": [
       "   funding_round_type  raised_amount_usd                   permalink  \\\n",
       "0             venture         10000000.0         /organization/-fame   \n",
       "10            venture         20000000.0        /organization/0xdata   \n",
       "11            venture          1700000.0        /organization/0xdata   \n",
       "12            venture          8900000.0        /organization/0xdata   \n",
       "22            venture          5000000.0  /organization/1-mainstream   \n",
       "\n",
       "            name                     category_list country_code  \n",
       "0          #fame                             Media          IND  \n",
       "10        H2O.ai                         Analytics          USA  \n",
       "11        H2O.ai                         Analytics          USA  \n",
       "12        H2O.ai                         Analytics          USA  \n",
       "22  1 Mainstream  Apps|Cable|Distribution|Software          USA  "
      ]
     },
     "execution_count": 44,
     "metadata": {},
     "output_type": "execute_result"
    }
   ],
   "source": [
    "venture_frame.head()"
   ]
  },
  {
   "cell_type": "markdown",
   "metadata": {},
   "source": [
    "## Checkpoint 4: Sector Analysis 1"
   ]
  },
  {
   "cell_type": "markdown",
   "metadata": {},
   "source": [
    "Extract the primary sector of each category list from the category_list column"
   ]
  },
  {
   "cell_type": "code",
   "execution_count": 45,
   "metadata": {},
   "outputs": [],
   "source": [
    "# Subtask 4.1: Extract the primary sector of each category\n",
    "\n",
    "#Extracting the primary vector value\n",
    "venture_frame['primary_sector'] = venture_frame['category_list'].apply(lambda x: x.split('|')[0])\n",
    "\n",
    "#dropping hte category_ist column as its nnot needed for further analysis\n",
    "venture_frame.drop('category_list', inplace=True, axis=1)"
   ]
  },
  {
   "cell_type": "code",
   "execution_count": 46,
   "metadata": {},
   "outputs": [
    {
     "data": {
      "text/html": [
       "<div>\n",
       "<style scoped>\n",
       "    .dataframe tbody tr th:only-of-type {\n",
       "        vertical-align: middle;\n",
       "    }\n",
       "\n",
       "    .dataframe tbody tr th {\n",
       "        vertical-align: top;\n",
       "    }\n",
       "\n",
       "    .dataframe thead th {\n",
       "        text-align: right;\n",
       "    }\n",
       "</style>\n",
       "<table border=\"1\" class=\"dataframe\">\n",
       "  <thead>\n",
       "    <tr style=\"text-align: right;\">\n",
       "      <th></th>\n",
       "      <th>funding_round_type</th>\n",
       "      <th>raised_amount_usd</th>\n",
       "      <th>permalink</th>\n",
       "      <th>name</th>\n",
       "      <th>country_code</th>\n",
       "      <th>primary_sector</th>\n",
       "    </tr>\n",
       "  </thead>\n",
       "  <tbody>\n",
       "    <tr>\n",
       "      <th>0</th>\n",
       "      <td>venture</td>\n",
       "      <td>10000000.0</td>\n",
       "      <td>/organization/-fame</td>\n",
       "      <td>#fame</td>\n",
       "      <td>IND</td>\n",
       "      <td>Media</td>\n",
       "    </tr>\n",
       "    <tr>\n",
       "      <th>10</th>\n",
       "      <td>venture</td>\n",
       "      <td>20000000.0</td>\n",
       "      <td>/organization/0xdata</td>\n",
       "      <td>H2O.ai</td>\n",
       "      <td>USA</td>\n",
       "      <td>Analytics</td>\n",
       "    </tr>\n",
       "    <tr>\n",
       "      <th>11</th>\n",
       "      <td>venture</td>\n",
       "      <td>1700000.0</td>\n",
       "      <td>/organization/0xdata</td>\n",
       "      <td>H2O.ai</td>\n",
       "      <td>USA</td>\n",
       "      <td>Analytics</td>\n",
       "    </tr>\n",
       "    <tr>\n",
       "      <th>12</th>\n",
       "      <td>venture</td>\n",
       "      <td>8900000.0</td>\n",
       "      <td>/organization/0xdata</td>\n",
       "      <td>H2O.ai</td>\n",
       "      <td>USA</td>\n",
       "      <td>Analytics</td>\n",
       "    </tr>\n",
       "    <tr>\n",
       "      <th>22</th>\n",
       "      <td>venture</td>\n",
       "      <td>5000000.0</td>\n",
       "      <td>/organization/1-mainstream</td>\n",
       "      <td>1 Mainstream</td>\n",
       "      <td>USA</td>\n",
       "      <td>Apps</td>\n",
       "    </tr>\n",
       "  </tbody>\n",
       "</table>\n",
       "</div>"
      ],
      "text/plain": [
       "   funding_round_type  raised_amount_usd                   permalink  \\\n",
       "0             venture         10000000.0         /organization/-fame   \n",
       "10            venture         20000000.0        /organization/0xdata   \n",
       "11            venture          1700000.0        /organization/0xdata   \n",
       "12            venture          8900000.0        /organization/0xdata   \n",
       "22            venture          5000000.0  /organization/1-mainstream   \n",
       "\n",
       "            name country_code primary_sector  \n",
       "0          #fame          IND          Media  \n",
       "10        H2O.ai          USA      Analytics  \n",
       "11        H2O.ai          USA      Analytics  \n",
       "12        H2O.ai          USA      Analytics  \n",
       "22  1 Mainstream          USA           Apps  "
      ]
     },
     "execution_count": 46,
     "metadata": {},
     "output_type": "execute_result"
    }
   ],
   "source": [
    "venture_frame.head()"
   ]
  },
  {
   "cell_type": "markdown",
   "metadata": {},
   "source": [
    "####  Loading the mapping data"
   ]
  },
  {
   "cell_type": "code",
   "execution_count": 47,
   "metadata": {},
   "outputs": [
    {
     "data": {
      "text/html": [
       "<div>\n",
       "<style scoped>\n",
       "    .dataframe tbody tr th:only-of-type {\n",
       "        vertical-align: middle;\n",
       "    }\n",
       "\n",
       "    .dataframe tbody tr th {\n",
       "        vertical-align: top;\n",
       "    }\n",
       "\n",
       "    .dataframe thead th {\n",
       "        text-align: right;\n",
       "    }\n",
       "</style>\n",
       "<table border=\"1\" class=\"dataframe\">\n",
       "  <thead>\n",
       "    <tr style=\"text-align: right;\">\n",
       "      <th></th>\n",
       "      <th>category_list</th>\n",
       "      <th>Automotive &amp; Sports</th>\n",
       "      <th>Blanks</th>\n",
       "      <th>Cleantech / Semiconductors</th>\n",
       "      <th>Entertainment</th>\n",
       "      <th>Health</th>\n",
       "      <th>Manufacturing</th>\n",
       "      <th>News, Search and Messaging</th>\n",
       "      <th>Others</th>\n",
       "      <th>Social, Finance, Analytics, Advertising</th>\n",
       "    </tr>\n",
       "  </thead>\n",
       "  <tbody>\n",
       "    <tr>\n",
       "      <th>0</th>\n",
       "      <td>NaN</td>\n",
       "      <td>0</td>\n",
       "      <td>1</td>\n",
       "      <td>0</td>\n",
       "      <td>0</td>\n",
       "      <td>0</td>\n",
       "      <td>0</td>\n",
       "      <td>0</td>\n",
       "      <td>0</td>\n",
       "      <td>0</td>\n",
       "    </tr>\n",
       "    <tr>\n",
       "      <th>1</th>\n",
       "      <td>3D</td>\n",
       "      <td>0</td>\n",
       "      <td>0</td>\n",
       "      <td>0</td>\n",
       "      <td>0</td>\n",
       "      <td>0</td>\n",
       "      <td>1</td>\n",
       "      <td>0</td>\n",
       "      <td>0</td>\n",
       "      <td>0</td>\n",
       "    </tr>\n",
       "    <tr>\n",
       "      <th>2</th>\n",
       "      <td>3D Printing</td>\n",
       "      <td>0</td>\n",
       "      <td>0</td>\n",
       "      <td>0</td>\n",
       "      <td>0</td>\n",
       "      <td>0</td>\n",
       "      <td>1</td>\n",
       "      <td>0</td>\n",
       "      <td>0</td>\n",
       "      <td>0</td>\n",
       "    </tr>\n",
       "    <tr>\n",
       "      <th>3</th>\n",
       "      <td>3D Technology</td>\n",
       "      <td>0</td>\n",
       "      <td>0</td>\n",
       "      <td>0</td>\n",
       "      <td>0</td>\n",
       "      <td>0</td>\n",
       "      <td>1</td>\n",
       "      <td>0</td>\n",
       "      <td>0</td>\n",
       "      <td>0</td>\n",
       "    </tr>\n",
       "    <tr>\n",
       "      <th>4</th>\n",
       "      <td>Accounting</td>\n",
       "      <td>0</td>\n",
       "      <td>0</td>\n",
       "      <td>0</td>\n",
       "      <td>0</td>\n",
       "      <td>0</td>\n",
       "      <td>0</td>\n",
       "      <td>0</td>\n",
       "      <td>0</td>\n",
       "      <td>1</td>\n",
       "    </tr>\n",
       "  </tbody>\n",
       "</table>\n",
       "</div>"
      ],
      "text/plain": [
       "   category_list  Automotive & Sports  Blanks  Cleantech / Semiconductors  \\\n",
       "0            NaN                    0       1                           0   \n",
       "1             3D                    0       0                           0   \n",
       "2    3D Printing                    0       0                           0   \n",
       "3  3D Technology                    0       0                           0   \n",
       "4     Accounting                    0       0                           0   \n",
       "\n",
       "   Entertainment  Health  Manufacturing  News, Search and Messaging  Others  \\\n",
       "0              0       0              0                           0       0   \n",
       "1              0       0              1                           0       0   \n",
       "2              0       0              1                           0       0   \n",
       "3              0       0              1                           0       0   \n",
       "4              0       0              0                           0       0   \n",
       "\n",
       "   Social, Finance, Analytics, Advertising  \n",
       "0                                        0  \n",
       "1                                        0  \n",
       "2                                        0  \n",
       "3                                        0  \n",
       "4                                        1  "
      ]
     },
     "execution_count": 47,
     "metadata": {},
     "output_type": "execute_result"
    }
   ],
   "source": [
    "mapping = pd.read_csv('mapping.csv')\n",
    "mapping.head()"
   ]
  },
  {
   "cell_type": "code",
   "execution_count": 48,
   "metadata": {},
   "outputs": [],
   "source": [
    "#Removing null values if any from category_list column\n",
    "mapping = mapping[pd.notnull(mapping['category_list'])]"
   ]
  },
  {
   "cell_type": "code",
   "execution_count": 49,
   "metadata": {},
   "outputs": [
    {
     "data": {
      "text/html": [
       "<div>\n",
       "<style scoped>\n",
       "    .dataframe tbody tr th:only-of-type {\n",
       "        vertical-align: middle;\n",
       "    }\n",
       "\n",
       "    .dataframe tbody tr th {\n",
       "        vertical-align: top;\n",
       "    }\n",
       "\n",
       "    .dataframe thead th {\n",
       "        text-align: right;\n",
       "    }\n",
       "</style>\n",
       "<table border=\"1\" class=\"dataframe\">\n",
       "  <thead>\n",
       "    <tr style=\"text-align: right;\">\n",
       "      <th></th>\n",
       "      <th>category_list</th>\n",
       "      <th>Automotive &amp; Sports</th>\n",
       "      <th>Blanks</th>\n",
       "      <th>Cleantech / Semiconductors</th>\n",
       "      <th>Entertainment</th>\n",
       "      <th>Health</th>\n",
       "      <th>Manufacturing</th>\n",
       "      <th>News, Search and Messaging</th>\n",
       "      <th>Others</th>\n",
       "      <th>Social, Finance, Analytics, Advertising</th>\n",
       "    </tr>\n",
       "  </thead>\n",
       "  <tbody>\n",
       "    <tr>\n",
       "      <th>1</th>\n",
       "      <td>3D</td>\n",
       "      <td>0</td>\n",
       "      <td>0</td>\n",
       "      <td>0</td>\n",
       "      <td>0</td>\n",
       "      <td>0</td>\n",
       "      <td>1</td>\n",
       "      <td>0</td>\n",
       "      <td>0</td>\n",
       "      <td>0</td>\n",
       "    </tr>\n",
       "    <tr>\n",
       "      <th>2</th>\n",
       "      <td>3D Printing</td>\n",
       "      <td>0</td>\n",
       "      <td>0</td>\n",
       "      <td>0</td>\n",
       "      <td>0</td>\n",
       "      <td>0</td>\n",
       "      <td>1</td>\n",
       "      <td>0</td>\n",
       "      <td>0</td>\n",
       "      <td>0</td>\n",
       "    </tr>\n",
       "    <tr>\n",
       "      <th>3</th>\n",
       "      <td>3D Technology</td>\n",
       "      <td>0</td>\n",
       "      <td>0</td>\n",
       "      <td>0</td>\n",
       "      <td>0</td>\n",
       "      <td>0</td>\n",
       "      <td>1</td>\n",
       "      <td>0</td>\n",
       "      <td>0</td>\n",
       "      <td>0</td>\n",
       "    </tr>\n",
       "    <tr>\n",
       "      <th>4</th>\n",
       "      <td>Accounting</td>\n",
       "      <td>0</td>\n",
       "      <td>0</td>\n",
       "      <td>0</td>\n",
       "      <td>0</td>\n",
       "      <td>0</td>\n",
       "      <td>0</td>\n",
       "      <td>0</td>\n",
       "      <td>0</td>\n",
       "      <td>1</td>\n",
       "    </tr>\n",
       "    <tr>\n",
       "      <th>5</th>\n",
       "      <td>Active Lifestyle</td>\n",
       "      <td>0</td>\n",
       "      <td>0</td>\n",
       "      <td>0</td>\n",
       "      <td>0</td>\n",
       "      <td>1</td>\n",
       "      <td>0</td>\n",
       "      <td>0</td>\n",
       "      <td>0</td>\n",
       "      <td>0</td>\n",
       "    </tr>\n",
       "  </tbody>\n",
       "</table>\n",
       "</div>"
      ],
      "text/plain": [
       "      category_list  Automotive & Sports  Blanks  Cleantech / Semiconductors  \\\n",
       "1                3D                    0       0                           0   \n",
       "2       3D Printing                    0       0                           0   \n",
       "3     3D Technology                    0       0                           0   \n",
       "4        Accounting                    0       0                           0   \n",
       "5  Active Lifestyle                    0       0                           0   \n",
       "\n",
       "   Entertainment  Health  Manufacturing  News, Search and Messaging  Others  \\\n",
       "1              0       0              1                           0       0   \n",
       "2              0       0              1                           0       0   \n",
       "3              0       0              1                           0       0   \n",
       "4              0       0              0                           0       0   \n",
       "5              0       1              0                           0       0   \n",
       "\n",
       "   Social, Finance, Analytics, Advertising  \n",
       "1                                        0  \n",
       "2                                        0  \n",
       "3                                        0  \n",
       "4                                        1  \n",
       "5                                        0  "
      ]
     },
     "execution_count": 49,
     "metadata": {},
     "output_type": "execute_result"
    }
   ],
   "source": [
    "# check and replace \"0\" with corresponding value of \"na\".\n",
    "mapping.category_list = mapping.category_list.replace({'0':'na'}, regex=True)\n",
    "mapping.head()"
   ]
  },
  {
   "cell_type": "code",
   "execution_count": 50,
   "metadata": {},
   "outputs": [
    {
     "data": {
      "text/plain": [
       "1                    3D\n",
       "2           3D Printing\n",
       "3         3D Technology\n",
       "4            Accounting\n",
       "5      Active Lifestyle\n",
       "             ...       \n",
       "683           Wholesale\n",
       "684    Wine And Spirits\n",
       "685            Wireless\n",
       "686               Women\n",
       "687        Young Adults\n",
       "Name: category_list, Length: 687, dtype: object"
      ]
     },
     "execution_count": 50,
     "metadata": {},
     "output_type": "execute_result"
    }
   ],
   "source": [
    "mapping.category_list"
   ]
  },
  {
   "cell_type": "markdown",
   "metadata": {},
   "source": [
    "To be able to merge all ther main_category values with the mapping file's category_list column all the values in the main_category columns should be present in the category_list column of the mapping file.\n",
    "\n",
    "Let's see if this is true."
   ]
  },
  {
   "cell_type": "code",
   "execution_count": 51,
   "metadata": {},
   "outputs": [
    {
     "name": "stdout",
     "output_type": "stream",
     "text": [
      "['Automotive & Sports', 'Blanks', 'Cleantech / Semiconductors', 'Entertainment', 'Health', 'Manufacturing', 'News, Search and Messaging', 'Others', 'Social, Finance, Analytics, Advertising'] \n",
      "\n",
      "['category_list']\n"
     ]
    }
   ],
   "source": [
    "# store the value and id variables in two separate arrays\n",
    "\n",
    "# store the value variables in one Series\n",
    "value_vars = list(mapping.columns[1:])\n",
    "\n",
    "# take the setdiff() to get the rest of the variables\n",
    "id_vars = ['category_list']\n",
    "\n",
    "print(value_vars, \"\\n\")\n",
    "print(id_vars)"
   ]
  },
  {
   "cell_type": "markdown",
   "metadata": {},
   "source": [
    "Removing blanks from category_list as its not needed for analysis."
   ]
  },
  {
   "cell_type": "code",
   "execution_count": 52,
   "metadata": {},
   "outputs": [
    {
     "name": "stdout",
     "output_type": "stream",
     "text": [
      "['Automotive & Sports', 'Cleantech / Semiconductors', 'Entertainment', 'Health', 'Manufacturing', 'News, Search and Messaging', 'Others', 'Social, Finance, Analytics, Advertising'] \n",
      "\n"
     ]
    }
   ],
   "source": [
    "value_vars.remove('Blanks')\n",
    "print(value_vars, \"\\n\")"
   ]
  },
  {
   "cell_type": "code",
   "execution_count": 53,
   "metadata": {},
   "outputs": [
    {
     "data": {
      "text/html": [
       "<div>\n",
       "<style scoped>\n",
       "    .dataframe tbody tr th:only-of-type {\n",
       "        vertical-align: middle;\n",
       "    }\n",
       "\n",
       "    .dataframe tbody tr th {\n",
       "        vertical-align: top;\n",
       "    }\n",
       "\n",
       "    .dataframe thead th {\n",
       "        text-align: right;\n",
       "    }\n",
       "</style>\n",
       "<table border=\"1\" class=\"dataframe\">\n",
       "  <thead>\n",
       "    <tr style=\"text-align: right;\">\n",
       "      <th></th>\n",
       "      <th>category_list</th>\n",
       "      <th>main_sector</th>\n",
       "    </tr>\n",
       "  </thead>\n",
       "  <tbody>\n",
       "    <tr>\n",
       "      <th>7</th>\n",
       "      <td>Adventure Travel</td>\n",
       "      <td>Automotive &amp; Sports</td>\n",
       "    </tr>\n",
       "    <tr>\n",
       "      <th>13</th>\n",
       "      <td>Aerospace</td>\n",
       "      <td>Automotive &amp; Sports</td>\n",
       "    </tr>\n",
       "    <tr>\n",
       "      <th>44</th>\n",
       "      <td>Auto</td>\n",
       "      <td>Automotive &amp; Sports</td>\n",
       "    </tr>\n",
       "    <tr>\n",
       "      <th>45</th>\n",
       "      <td>Automated Kiosk</td>\n",
       "      <td>Automotive &amp; Sports</td>\n",
       "    </tr>\n",
       "    <tr>\n",
       "      <th>46</th>\n",
       "      <td>Automotive</td>\n",
       "      <td>Automotive &amp; Sports</td>\n",
       "    </tr>\n",
       "  </tbody>\n",
       "</table>\n",
       "</div>"
      ],
      "text/plain": [
       "       category_list          main_sector\n",
       "7   Adventure Travel  Automotive & Sports\n",
       "13         Aerospace  Automotive & Sports\n",
       "44              Auto  Automotive & Sports\n",
       "45   Automated Kiosk  Automotive & Sports\n",
       "46        Automotive  Automotive & Sports"
      ]
     },
     "execution_count": 53,
     "metadata": {},
     "output_type": "execute_result"
    }
   ],
   "source": [
    "# convert into long\n",
    "mapping = pd.melt(mapping, id_vars, value_vars)\n",
    "\n",
    "# remove rows having value=0\n",
    "mapping = mapping[~(mapping.value == 0)]\n",
    "mapping = mapping.drop('value', axis = 1) \n",
    "\n",
    "# renaming the 'variable' column\n",
    "mapping = mapping.rename(columns = {\"variable\":\"main_sector\"})\n",
    "mapping.head()"
   ]
  },
  {
   "cell_type": "markdown",
   "metadata": {},
   "source": [
    "Map each primary sector to one of the eight main sectors (Note that ‘Others’ is also considered one of the main sectors)"
   ]
  },
  {
   "cell_type": "code",
   "execution_count": 54,
   "metadata": {},
   "outputs": [
    {
     "data": {
      "text/html": [
       "<div>\n",
       "<style scoped>\n",
       "    .dataframe tbody tr th:only-of-type {\n",
       "        vertical-align: middle;\n",
       "    }\n",
       "\n",
       "    .dataframe tbody tr th {\n",
       "        vertical-align: top;\n",
       "    }\n",
       "\n",
       "    .dataframe thead th {\n",
       "        text-align: right;\n",
       "    }\n",
       "</style>\n",
       "<table border=\"1\" class=\"dataframe\">\n",
       "  <thead>\n",
       "    <tr style=\"text-align: right;\">\n",
       "      <th></th>\n",
       "      <th>category_list</th>\n",
       "      <th>main_sector</th>\n",
       "      <th>funding_round_type</th>\n",
       "      <th>raised_amount_usd</th>\n",
       "      <th>permalink</th>\n",
       "      <th>name</th>\n",
       "      <th>country_code</th>\n",
       "      <th>primary_sector</th>\n",
       "    </tr>\n",
       "  </thead>\n",
       "  <tbody>\n",
       "    <tr>\n",
       "      <th>0</th>\n",
       "      <td>Adventure Travel</td>\n",
       "      <td>Automotive &amp; Sports</td>\n",
       "      <td>venture</td>\n",
       "      <td>650000.0</td>\n",
       "      <td>/organization/hostel-rocket</td>\n",
       "      <td>Hostel Rocket</td>\n",
       "      <td>USA</td>\n",
       "      <td>Adventure Travel</td>\n",
       "    </tr>\n",
       "    <tr>\n",
       "      <th>1</th>\n",
       "      <td>Adventure Travel</td>\n",
       "      <td>Automotive &amp; Sports</td>\n",
       "      <td>venture</td>\n",
       "      <td>1200000.0</td>\n",
       "      <td>/organization/hovelstay</td>\n",
       "      <td>hovelstay.com</td>\n",
       "      <td>USA</td>\n",
       "      <td>Adventure Travel</td>\n",
       "    </tr>\n",
       "    <tr>\n",
       "      <th>2</th>\n",
       "      <td>Adventure Travel</td>\n",
       "      <td>Automotive &amp; Sports</td>\n",
       "      <td>venture</td>\n",
       "      <td>4500000.0</td>\n",
       "      <td>/organization/nemo-equipment</td>\n",
       "      <td>NEMO Equipment</td>\n",
       "      <td>USA</td>\n",
       "      <td>Adventure Travel</td>\n",
       "    </tr>\n",
       "    <tr>\n",
       "      <th>3</th>\n",
       "      <td>Aerospace</td>\n",
       "      <td>Automotive &amp; Sports</td>\n",
       "      <td>venture</td>\n",
       "      <td>25000000.0</td>\n",
       "      <td>/organization/airware</td>\n",
       "      <td>Airware</td>\n",
       "      <td>USA</td>\n",
       "      <td>Aerospace</td>\n",
       "    </tr>\n",
       "    <tr>\n",
       "      <th>4</th>\n",
       "      <td>Aerospace</td>\n",
       "      <td>Automotive &amp; Sports</td>\n",
       "      <td>venture</td>\n",
       "      <td>12200000.0</td>\n",
       "      <td>/organization/airware</td>\n",
       "      <td>Airware</td>\n",
       "      <td>USA</td>\n",
       "      <td>Aerospace</td>\n",
       "    </tr>\n",
       "  </tbody>\n",
       "</table>\n",
       "</div>"
      ],
      "text/plain": [
       "      category_list          main_sector funding_round_type  \\\n",
       "0  Adventure Travel  Automotive & Sports            venture   \n",
       "1  Adventure Travel  Automotive & Sports            venture   \n",
       "2  Adventure Travel  Automotive & Sports            venture   \n",
       "3         Aerospace  Automotive & Sports            venture   \n",
       "4         Aerospace  Automotive & Sports            venture   \n",
       "\n",
       "   raised_amount_usd                     permalink            name  \\\n",
       "0           650000.0   /organization/hostel-rocket   Hostel Rocket   \n",
       "1          1200000.0       /organization/hovelstay   hovelstay.com   \n",
       "2          4500000.0  /organization/nemo-equipment  NEMO Equipment   \n",
       "3         25000000.0         /organization/airware         Airware   \n",
       "4         12200000.0         /organization/airware         Airware   \n",
       "\n",
       "  country_code    primary_sector  \n",
       "0          USA  Adventure Travel  \n",
       "1          USA  Adventure Travel  \n",
       "2          USA  Adventure Travel  \n",
       "3          USA         Aerospace  \n",
       "4          USA         Aerospace  "
      ]
     },
     "execution_count": 54,
     "metadata": {},
     "output_type": "execute_result"
    }
   ],
   "source": [
    "#venture_sector_frame = venture_frame.merge(mapping, how = 'left', on ='primary_sector')\n",
    "venture_sector_frame = pd.merge(mapping, venture_frame, how = 'inner', left_on = 'category_list', right_on = 'primary_sector')\n",
    "venture_sector_frame.head()"
   ]
  },
  {
   "cell_type": "code",
   "execution_count": 55,
   "metadata": {},
   "outputs": [
    {
     "data": {
      "text/plain": [
       "array([], dtype=object)"
      ]
     },
     "execution_count": 55,
     "metadata": {},
     "output_type": "execute_result"
    }
   ],
   "source": [
    "#List of primary sectors which have no main sectors in the master_frame\n",
    "venture_sector_frame[venture_sector_frame.main_sector.isnull()].category_list.unique()"
   ]
  },
  {
   "cell_type": "code",
   "execution_count": 56,
   "metadata": {},
   "outputs": [
    {
     "data": {
      "text/plain": [
       "0"
      ]
     },
     "execution_count": 56,
     "metadata": {},
     "output_type": "execute_result"
    }
   ],
   "source": [
    "#Number of rows with NaN main_sector value\n",
    "len(venture_sector_frame[venture_sector_frame.main_sector.isnull()])"
   ]
  },
  {
   "cell_type": "code",
   "execution_count": 57,
   "metadata": {},
   "outputs": [
    {
     "data": {
      "text/html": [
       "<div>\n",
       "<style scoped>\n",
       "    .dataframe tbody tr th:only-of-type {\n",
       "        vertical-align: middle;\n",
       "    }\n",
       "\n",
       "    .dataframe tbody tr th {\n",
       "        vertical-align: top;\n",
       "    }\n",
       "\n",
       "    .dataframe thead th {\n",
       "        text-align: right;\n",
       "    }\n",
       "</style>\n",
       "<table border=\"1\" class=\"dataframe\">\n",
       "  <thead>\n",
       "    <tr style=\"text-align: right;\">\n",
       "      <th></th>\n",
       "      <th>category_list</th>\n",
       "      <th>main_sector</th>\n",
       "      <th>funding_round_type</th>\n",
       "      <th>raised_amount_usd</th>\n",
       "      <th>permalink</th>\n",
       "      <th>name</th>\n",
       "      <th>country_code</th>\n",
       "      <th>primary_sector</th>\n",
       "    </tr>\n",
       "  </thead>\n",
       "  <tbody>\n",
       "    <tr>\n",
       "      <th>0</th>\n",
       "      <td>Adventure Travel</td>\n",
       "      <td>Automotive &amp; Sports</td>\n",
       "      <td>venture</td>\n",
       "      <td>650000.0</td>\n",
       "      <td>/organization/hostel-rocket</td>\n",
       "      <td>Hostel Rocket</td>\n",
       "      <td>USA</td>\n",
       "      <td>Adventure Travel</td>\n",
       "    </tr>\n",
       "    <tr>\n",
       "      <th>1</th>\n",
       "      <td>Adventure Travel</td>\n",
       "      <td>Automotive &amp; Sports</td>\n",
       "      <td>venture</td>\n",
       "      <td>1200000.0</td>\n",
       "      <td>/organization/hovelstay</td>\n",
       "      <td>hovelstay.com</td>\n",
       "      <td>USA</td>\n",
       "      <td>Adventure Travel</td>\n",
       "    </tr>\n",
       "    <tr>\n",
       "      <th>2</th>\n",
       "      <td>Adventure Travel</td>\n",
       "      <td>Automotive &amp; Sports</td>\n",
       "      <td>venture</td>\n",
       "      <td>4500000.0</td>\n",
       "      <td>/organization/nemo-equipment</td>\n",
       "      <td>NEMO Equipment</td>\n",
       "      <td>USA</td>\n",
       "      <td>Adventure Travel</td>\n",
       "    </tr>\n",
       "    <tr>\n",
       "      <th>3</th>\n",
       "      <td>Aerospace</td>\n",
       "      <td>Automotive &amp; Sports</td>\n",
       "      <td>venture</td>\n",
       "      <td>25000000.0</td>\n",
       "      <td>/organization/airware</td>\n",
       "      <td>Airware</td>\n",
       "      <td>USA</td>\n",
       "      <td>Aerospace</td>\n",
       "    </tr>\n",
       "    <tr>\n",
       "      <th>4</th>\n",
       "      <td>Aerospace</td>\n",
       "      <td>Automotive &amp; Sports</td>\n",
       "      <td>venture</td>\n",
       "      <td>12200000.0</td>\n",
       "      <td>/organization/airware</td>\n",
       "      <td>Airware</td>\n",
       "      <td>USA</td>\n",
       "      <td>Aerospace</td>\n",
       "    </tr>\n",
       "  </tbody>\n",
       "</table>\n",
       "</div>"
      ],
      "text/plain": [
       "      category_list          main_sector funding_round_type  \\\n",
       "0  Adventure Travel  Automotive & Sports            venture   \n",
       "1  Adventure Travel  Automotive & Sports            venture   \n",
       "2  Adventure Travel  Automotive & Sports            venture   \n",
       "3         Aerospace  Automotive & Sports            venture   \n",
       "4         Aerospace  Automotive & Sports            venture   \n",
       "\n",
       "   raised_amount_usd                     permalink            name  \\\n",
       "0           650000.0   /organization/hostel-rocket   Hostel Rocket   \n",
       "1          1200000.0       /organization/hovelstay   hovelstay.com   \n",
       "2          4500000.0  /organization/nemo-equipment  NEMO Equipment   \n",
       "3         25000000.0         /organization/airware         Airware   \n",
       "4         12200000.0         /organization/airware         Airware   \n",
       "\n",
       "  country_code    primary_sector  \n",
       "0          USA  Adventure Travel  \n",
       "1          USA  Adventure Travel  \n",
       "2          USA  Adventure Travel  \n",
       "3          USA         Aerospace  \n",
       "4          USA         Aerospace  "
      ]
     },
     "execution_count": 57,
     "metadata": {},
     "output_type": "execute_result"
    }
   ],
   "source": [
    "venture_sector_frame.head()"
   ]
  },
  {
   "cell_type": "markdown",
   "metadata": {},
   "source": [
    "### Checkpoint 5: Sector Analysis 2\n",
    "\n",
    "Businesss Constraint:\n",
    "<br>\n",
    "    FT = Venture\n",
    "<br>\n",
    "    Investment b/w 5 to 15 Million\n",
    "<br>\n",
    "    Top3 countries USD , GBR & IND"
   ]
  },
  {
   "cell_type": "markdown",
   "metadata": {},
   "source": [
    "Create three separate data frames D1, D2 and D3 for each of the three countries containing the observations of funding type FT falling within the 5-15 million USD range. The three data frames should contain all the columns of the master_frame along with the main sector and the primary sector. "
   ]
  },
  {
   "cell_type": "markdown",
   "metadata": {},
   "source": [
    "creating dataframes for each top 3 countries"
   ]
  },
  {
   "cell_type": "code",
   "execution_count": 58,
   "metadata": {},
   "outputs": [
    {
     "data": {
      "text/html": [
       "<div>\n",
       "<style scoped>\n",
       "    .dataframe tbody tr th:only-of-type {\n",
       "        vertical-align: middle;\n",
       "    }\n",
       "\n",
       "    .dataframe tbody tr th {\n",
       "        vertical-align: top;\n",
       "    }\n",
       "\n",
       "    .dataframe thead th {\n",
       "        text-align: right;\n",
       "    }\n",
       "</style>\n",
       "<table border=\"1\" class=\"dataframe\">\n",
       "  <thead>\n",
       "    <tr style=\"text-align: right;\">\n",
       "      <th></th>\n",
       "      <th>category_list</th>\n",
       "      <th>main_sector</th>\n",
       "      <th>funding_round_type</th>\n",
       "      <th>raised_amount_usd</th>\n",
       "      <th>permalink</th>\n",
       "      <th>name</th>\n",
       "      <th>country_code</th>\n",
       "      <th>primary_sector</th>\n",
       "      <th>(raised_amount_usd, Total_amount)</th>\n",
       "      <th>(raised_amount_usd, Total_count)</th>\n",
       "    </tr>\n",
       "  </thead>\n",
       "  <tbody>\n",
       "    <tr>\n",
       "      <th>0</th>\n",
       "      <td>Aerospace</td>\n",
       "      <td>Automotive &amp; Sports</td>\n",
       "      <td>venture</td>\n",
       "      <td>12200000.0</td>\n",
       "      <td>/organization/airware</td>\n",
       "      <td>Airware</td>\n",
       "      <td>USA</td>\n",
       "      <td>Aerospace</td>\n",
       "      <td>1.454104e+09</td>\n",
       "      <td>167</td>\n",
       "    </tr>\n",
       "    <tr>\n",
       "      <th>1</th>\n",
       "      <td>Aerospace</td>\n",
       "      <td>Automotive &amp; Sports</td>\n",
       "      <td>venture</td>\n",
       "      <td>15000000.0</td>\n",
       "      <td>/organization/exostar</td>\n",
       "      <td>Exostar</td>\n",
       "      <td>USA</td>\n",
       "      <td>Aerospace</td>\n",
       "      <td>1.454104e+09</td>\n",
       "      <td>167</td>\n",
       "    </tr>\n",
       "    <tr>\n",
       "      <th>2</th>\n",
       "      <td>Aerospace</td>\n",
       "      <td>Automotive &amp; Sports</td>\n",
       "      <td>venture</td>\n",
       "      <td>6000000.0</td>\n",
       "      <td>/organization/fly-blade</td>\n",
       "      <td>Fly BLADE</td>\n",
       "      <td>USA</td>\n",
       "      <td>Aerospace</td>\n",
       "      <td>1.454104e+09</td>\n",
       "      <td>167</td>\n",
       "    </tr>\n",
       "    <tr>\n",
       "      <th>3</th>\n",
       "      <td>Aerospace</td>\n",
       "      <td>Automotive &amp; Sports</td>\n",
       "      <td>venture</td>\n",
       "      <td>5200000.0</td>\n",
       "      <td>/organization/jetsmarter</td>\n",
       "      <td>JetSmarter</td>\n",
       "      <td>USA</td>\n",
       "      <td>Aerospace</td>\n",
       "      <td>1.454104e+09</td>\n",
       "      <td>167</td>\n",
       "    </tr>\n",
       "    <tr>\n",
       "      <th>4</th>\n",
       "      <td>Aerospace</td>\n",
       "      <td>Automotive &amp; Sports</td>\n",
       "      <td>venture</td>\n",
       "      <td>7000000.0</td>\n",
       "      <td>/organization/jetsuite</td>\n",
       "      <td>JetSuite</td>\n",
       "      <td>USA</td>\n",
       "      <td>Aerospace</td>\n",
       "      <td>1.454104e+09</td>\n",
       "      <td>167</td>\n",
       "    </tr>\n",
       "  </tbody>\n",
       "</table>\n",
       "</div>"
      ],
      "text/plain": [
       "  category_list          main_sector funding_round_type  raised_amount_usd  \\\n",
       "0     Aerospace  Automotive & Sports            venture         12200000.0   \n",
       "1     Aerospace  Automotive & Sports            venture         15000000.0   \n",
       "2     Aerospace  Automotive & Sports            venture          6000000.0   \n",
       "3     Aerospace  Automotive & Sports            venture          5200000.0   \n",
       "4     Aerospace  Automotive & Sports            venture          7000000.0   \n",
       "\n",
       "                  permalink        name country_code primary_sector  \\\n",
       "0     /organization/airware     Airware          USA      Aerospace   \n",
       "1     /organization/exostar     Exostar          USA      Aerospace   \n",
       "2   /organization/fly-blade   Fly BLADE          USA      Aerospace   \n",
       "3  /organization/jetsmarter  JetSmarter          USA      Aerospace   \n",
       "4    /organization/jetsuite    JetSuite          USA      Aerospace   \n",
       "\n",
       "   (raised_amount_usd, Total_amount)  (raised_amount_usd, Total_count)  \n",
       "0                       1.454104e+09                               167  \n",
       "1                       1.454104e+09                               167  \n",
       "2                       1.454104e+09                               167  \n",
       "3                       1.454104e+09                               167  \n",
       "4                       1.454104e+09                               167  "
      ]
     },
     "execution_count": 58,
     "metadata": {},
     "output_type": "execute_result"
    }
   ],
   "source": [
    "D1 = venture_sector_frame[(venture_sector_frame['country_code'] == 'USA') &\n",
    "             (venture_sector_frame['raised_amount_usd'] >= 5000000) &\n",
    "             (venture_sector_frame['raised_amount_usd'] <= 15000000)]\n",
    "D1_C1 = D1[['raised_amount_usd','main_sector']].groupby('main_sector').agg(['sum', 'count']).rename(\n",
    "    columns={'sum':'Total_amount','count' : 'Total_count'})\n",
    "D1 = D1.merge(D1_C1, how='left', on ='main_sector')\n",
    "D1.head()"
   ]
  },
  {
   "cell_type": "code",
   "execution_count": 59,
   "metadata": {},
   "outputs": [
    {
     "data": {
      "text/html": [
       "<div>\n",
       "<style scoped>\n",
       "    .dataframe tbody tr th:only-of-type {\n",
       "        vertical-align: middle;\n",
       "    }\n",
       "\n",
       "    .dataframe tbody tr th {\n",
       "        vertical-align: top;\n",
       "    }\n",
       "\n",
       "    .dataframe thead th {\n",
       "        text-align: right;\n",
       "    }\n",
       "</style>\n",
       "<table border=\"1\" class=\"dataframe\">\n",
       "  <thead>\n",
       "    <tr style=\"text-align: right;\">\n",
       "      <th></th>\n",
       "      <th>category_list</th>\n",
       "      <th>main_sector</th>\n",
       "      <th>funding_round_type</th>\n",
       "      <th>raised_amount_usd</th>\n",
       "      <th>permalink</th>\n",
       "      <th>name</th>\n",
       "      <th>country_code</th>\n",
       "      <th>primary_sector</th>\n",
       "      <th>(raised_amount_usd, Total_amount)</th>\n",
       "      <th>(raised_amount_usd, Total_count)</th>\n",
       "    </tr>\n",
       "  </thead>\n",
       "  <tbody>\n",
       "    <tr>\n",
       "      <th>0</th>\n",
       "      <td>Automotive</td>\n",
       "      <td>Automotive &amp; Sports</td>\n",
       "      <td>venture</td>\n",
       "      <td>11890000.0</td>\n",
       "      <td>/organization/autoquake</td>\n",
       "      <td>Autoquake</td>\n",
       "      <td>GBR</td>\n",
       "      <td>Automotive</td>\n",
       "      <td>167051565.0</td>\n",
       "      <td>16</td>\n",
       "    </tr>\n",
       "    <tr>\n",
       "      <th>1</th>\n",
       "      <td>Automotive</td>\n",
       "      <td>Automotive &amp; Sports</td>\n",
       "      <td>venture</td>\n",
       "      <td>6000000.0</td>\n",
       "      <td>/organization/autoquake</td>\n",
       "      <td>Autoquake</td>\n",
       "      <td>GBR</td>\n",
       "      <td>Automotive</td>\n",
       "      <td>167051565.0</td>\n",
       "      <td>16</td>\n",
       "    </tr>\n",
       "    <tr>\n",
       "      <th>2</th>\n",
       "      <td>Automotive</td>\n",
       "      <td>Automotive &amp; Sports</td>\n",
       "      <td>venture</td>\n",
       "      <td>5755376.0</td>\n",
       "      <td>/organization/autoquake</td>\n",
       "      <td>Autoquake</td>\n",
       "      <td>GBR</td>\n",
       "      <td>Automotive</td>\n",
       "      <td>167051565.0</td>\n",
       "      <td>16</td>\n",
       "    </tr>\n",
       "    <tr>\n",
       "      <th>3</th>\n",
       "      <td>Automotive</td>\n",
       "      <td>Automotive &amp; Sports</td>\n",
       "      <td>venture</td>\n",
       "      <td>11911764.0</td>\n",
       "      <td>/organization/autoquake</td>\n",
       "      <td>Autoquake</td>\n",
       "      <td>GBR</td>\n",
       "      <td>Automotive</td>\n",
       "      <td>167051565.0</td>\n",
       "      <td>16</td>\n",
       "    </tr>\n",
       "    <tr>\n",
       "      <th>4</th>\n",
       "      <td>Automotive</td>\n",
       "      <td>Automotive &amp; Sports</td>\n",
       "      <td>venture</td>\n",
       "      <td>7230241.0</td>\n",
       "      <td>/organization/carwow</td>\n",
       "      <td>Carwow</td>\n",
       "      <td>GBR</td>\n",
       "      <td>Automotive</td>\n",
       "      <td>167051565.0</td>\n",
       "      <td>16</td>\n",
       "    </tr>\n",
       "  </tbody>\n",
       "</table>\n",
       "</div>"
      ],
      "text/plain": [
       "  category_list          main_sector funding_round_type  raised_amount_usd  \\\n",
       "0    Automotive  Automotive & Sports            venture         11890000.0   \n",
       "1    Automotive  Automotive & Sports            venture          6000000.0   \n",
       "2    Automotive  Automotive & Sports            venture          5755376.0   \n",
       "3    Automotive  Automotive & Sports            venture         11911764.0   \n",
       "4    Automotive  Automotive & Sports            venture          7230241.0   \n",
       "\n",
       "                 permalink       name country_code primary_sector  \\\n",
       "0  /organization/autoquake  Autoquake          GBR     Automotive   \n",
       "1  /organization/autoquake  Autoquake          GBR     Automotive   \n",
       "2  /organization/autoquake  Autoquake          GBR     Automotive   \n",
       "3  /organization/autoquake  Autoquake          GBR     Automotive   \n",
       "4     /organization/carwow     Carwow          GBR     Automotive   \n",
       "\n",
       "   (raised_amount_usd, Total_amount)  (raised_amount_usd, Total_count)  \n",
       "0                        167051565.0                                16  \n",
       "1                        167051565.0                                16  \n",
       "2                        167051565.0                                16  \n",
       "3                        167051565.0                                16  \n",
       "4                        167051565.0                                16  "
      ]
     },
     "execution_count": 59,
     "metadata": {},
     "output_type": "execute_result"
    }
   ],
   "source": [
    "D2 = venture_sector_frame[(venture_sector_frame['country_code'] == 'GBR') &\n",
    "             (venture_sector_frame['raised_amount_usd'] >= 5000000) &\n",
    "             (venture_sector_frame['raised_amount_usd'] <= 15000000)]\n",
    "D2_C2 = D2[['raised_amount_usd','main_sector']].groupby('main_sector').agg(['sum', 'count']).rename(\n",
    "    columns={'sum':'Total_amount','count' : 'Total_count'})\n",
    "D2 = D2.merge(D2_C2, how='left', on ='main_sector')\n",
    "D2.head()"
   ]
  },
  {
   "cell_type": "code",
   "execution_count": 60,
   "metadata": {},
   "outputs": [
    {
     "data": {
      "text/html": [
       "<div>\n",
       "<style scoped>\n",
       "    .dataframe tbody tr th:only-of-type {\n",
       "        vertical-align: middle;\n",
       "    }\n",
       "\n",
       "    .dataframe tbody tr th {\n",
       "        vertical-align: top;\n",
       "    }\n",
       "\n",
       "    .dataframe thead th {\n",
       "        text-align: right;\n",
       "    }\n",
       "</style>\n",
       "<table border=\"1\" class=\"dataframe\">\n",
       "  <thead>\n",
       "    <tr style=\"text-align: right;\">\n",
       "      <th></th>\n",
       "      <th>category_list</th>\n",
       "      <th>main_sector</th>\n",
       "      <th>funding_round_type</th>\n",
       "      <th>raised_amount_usd</th>\n",
       "      <th>permalink</th>\n",
       "      <th>name</th>\n",
       "      <th>country_code</th>\n",
       "      <th>primary_sector</th>\n",
       "      <th>(raised_amount_usd, Total_amount)</th>\n",
       "      <th>(raised_amount_usd, Total_count)</th>\n",
       "    </tr>\n",
       "  </thead>\n",
       "  <tbody>\n",
       "    <tr>\n",
       "      <th>0</th>\n",
       "      <td>Aerospace</td>\n",
       "      <td>Automotive &amp; Sports</td>\n",
       "      <td>venture</td>\n",
       "      <td>6500000.0</td>\n",
       "      <td>/organization/mistral-solutions</td>\n",
       "      <td>Mistral Solutions</td>\n",
       "      <td>IND</td>\n",
       "      <td>Aerospace</td>\n",
       "      <td>136900000.0</td>\n",
       "      <td>13</td>\n",
       "    </tr>\n",
       "    <tr>\n",
       "      <th>1</th>\n",
       "      <td>Automotive</td>\n",
       "      <td>Automotive &amp; Sports</td>\n",
       "      <td>venture</td>\n",
       "      <td>5000000.0</td>\n",
       "      <td>/organization/ani-technologies</td>\n",
       "      <td>Ola</td>\n",
       "      <td>IND</td>\n",
       "      <td>Automotive</td>\n",
       "      <td>136900000.0</td>\n",
       "      <td>13</td>\n",
       "    </tr>\n",
       "    <tr>\n",
       "      <th>2</th>\n",
       "      <td>Automotive</td>\n",
       "      <td>Automotive &amp; Sports</td>\n",
       "      <td>venture</td>\n",
       "      <td>12000000.0</td>\n",
       "      <td>/organization/ather-energy</td>\n",
       "      <td>Ather Energy</td>\n",
       "      <td>IND</td>\n",
       "      <td>Automotive</td>\n",
       "      <td>136900000.0</td>\n",
       "      <td>13</td>\n",
       "    </tr>\n",
       "    <tr>\n",
       "      <th>3</th>\n",
       "      <td>Automotive</td>\n",
       "      <td>Automotive &amp; Sports</td>\n",
       "      <td>venture</td>\n",
       "      <td>15000000.0</td>\n",
       "      <td>/organization/cardekho</td>\n",
       "      <td>Cardekho</td>\n",
       "      <td>IND</td>\n",
       "      <td>Automotive</td>\n",
       "      <td>136900000.0</td>\n",
       "      <td>13</td>\n",
       "    </tr>\n",
       "    <tr>\n",
       "      <th>4</th>\n",
       "      <td>Automotive</td>\n",
       "      <td>Automotive &amp; Sports</td>\n",
       "      <td>venture</td>\n",
       "      <td>15000000.0</td>\n",
       "      <td>/organization/incredible-technologies-pvt-ltd</td>\n",
       "      <td>Incredible Technologies (CredR)</td>\n",
       "      <td>IND</td>\n",
       "      <td>Automotive</td>\n",
       "      <td>136900000.0</td>\n",
       "      <td>13</td>\n",
       "    </tr>\n",
       "  </tbody>\n",
       "</table>\n",
       "</div>"
      ],
      "text/plain": [
       "  category_list          main_sector funding_round_type  raised_amount_usd  \\\n",
       "0     Aerospace  Automotive & Sports            venture          6500000.0   \n",
       "1    Automotive  Automotive & Sports            venture          5000000.0   \n",
       "2    Automotive  Automotive & Sports            venture         12000000.0   \n",
       "3    Automotive  Automotive & Sports            venture         15000000.0   \n",
       "4    Automotive  Automotive & Sports            venture         15000000.0   \n",
       "\n",
       "                                       permalink  \\\n",
       "0                /organization/mistral-solutions   \n",
       "1                 /organization/ani-technologies   \n",
       "2                     /organization/ather-energy   \n",
       "3                         /organization/cardekho   \n",
       "4  /organization/incredible-technologies-pvt-ltd   \n",
       "\n",
       "                              name country_code primary_sector  \\\n",
       "0                Mistral Solutions          IND      Aerospace   \n",
       "1                              Ola          IND     Automotive   \n",
       "2                     Ather Energy          IND     Automotive   \n",
       "3                         Cardekho          IND     Automotive   \n",
       "4  Incredible Technologies (CredR)          IND     Automotive   \n",
       "\n",
       "   (raised_amount_usd, Total_amount)  (raised_amount_usd, Total_count)  \n",
       "0                        136900000.0                                13  \n",
       "1                        136900000.0                                13  \n",
       "2                        136900000.0                                13  \n",
       "3                        136900000.0                                13  \n",
       "4                        136900000.0                                13  "
      ]
     },
     "execution_count": 60,
     "metadata": {},
     "output_type": "execute_result"
    }
   ],
   "source": [
    "D3 = venture_sector_frame[(venture_sector_frame['country_code'] == 'IND') &\n",
    "             (venture_sector_frame['raised_amount_usd'] >= 5000000) &\n",
    "             (venture_sector_frame['raised_amount_usd'] <= 15000000)]\n",
    "D3_C3 = D3[['raised_amount_usd','main_sector']].groupby('main_sector').agg(['sum', 'count']).rename(\n",
    "    columns={'sum':'Total_amount','count' : 'Total_count'})\n",
    "D3 = D3.merge(D3_C3, how='left', on ='main_sector')\n",
    "D3.head()"
   ]
  },
  {
   "cell_type": "markdown",
   "metadata": {},
   "source": [
    " Total number of investments (count)"
   ]
  },
  {
   "cell_type": "code",
   "execution_count": 61,
   "metadata": {},
   "outputs": [
    {
     "name": "stdout",
     "output_type": "stream",
     "text": [
      "Total number of investments for D1 : 12012\n",
      "Total number of investments for D2 : 619\n",
      "Total number of investments for D2 : 328\n"
     ]
    }
   ],
   "source": [
    "# Sector-wise Investment Analysis\n",
    "\n",
    "#Total number of investments (count)\n",
    "print(\"Total number of investments for D1 : \" + str(D1.raised_amount_usd.count()))\n",
    "print(\"Total number of investments for D2 : \" + str(D2.raised_amount_usd.count()))\n",
    "print(\"Total number of investments for D2 : \" + str(D3.raised_amount_usd.count()))"
   ]
  },
  {
   "cell_type": "markdown",
   "metadata": {},
   "source": [
    "Total amount of investment (USD)"
   ]
  },
  {
   "cell_type": "code",
   "execution_count": 62,
   "metadata": {},
   "outputs": [
    {
     "name": "stdout",
     "output_type": "stream",
     "text": [
      "107318294664.0\n",
      "5365228300.0\n",
      "2949543602.0\n"
     ]
    }
   ],
   "source": [
    "#Total amount of investment (USD)\n",
    "print(round(D1.raised_amount_usd.sum(), 2))\n",
    "print(round(D2.raised_amount_usd.sum(), 2))\n",
    "print(round(D3.raised_amount_usd.sum(), 2))"
   ]
  },
  {
   "cell_type": "markdown",
   "metadata": {},
   "source": [
    "Top sector (based on count of investments) & Number of investments in the top sector "
   ]
  },
  {
   "cell_type": "code",
   "execution_count": 63,
   "metadata": {
    "scrolled": true
   },
   "outputs": [
    {
     "data": {
      "text/html": [
       "<div>\n",
       "<style scoped>\n",
       "    .dataframe tbody tr th:only-of-type {\n",
       "        vertical-align: middle;\n",
       "    }\n",
       "\n",
       "    .dataframe tbody tr th {\n",
       "        vertical-align: top;\n",
       "    }\n",
       "\n",
       "    .dataframe thead th {\n",
       "        text-align: right;\n",
       "    }\n",
       "</style>\n",
       "<table border=\"1\" class=\"dataframe\">\n",
       "  <thead>\n",
       "    <tr style=\"text-align: right;\">\n",
       "      <th></th>\n",
       "      <th>main_sector</th>\n",
       "      <th>Total_Investment_Count</th>\n",
       "    </tr>\n",
       "  </thead>\n",
       "  <tbody>\n",
       "    <tr>\n",
       "      <th>0</th>\n",
       "      <td>Others</td>\n",
       "      <td>2950</td>\n",
       "    </tr>\n",
       "    <tr>\n",
       "      <th>1</th>\n",
       "      <td>Social, Finance, Analytics, Advertising</td>\n",
       "      <td>2714</td>\n",
       "    </tr>\n",
       "    <tr>\n",
       "      <th>2</th>\n",
       "      <td>Cleantech / Semiconductors</td>\n",
       "      <td>2300</td>\n",
       "    </tr>\n",
       "  </tbody>\n",
       "</table>\n",
       "</div>"
      ],
      "text/plain": [
       "                               main_sector  Total_Investment_Count\n",
       "0                                   Others                    2950\n",
       "1  Social, Finance, Analytics, Advertising                    2714\n",
       "2               Cleantech / Semiconductors                    2300"
      ]
     },
     "execution_count": 63,
     "metadata": {},
     "output_type": "execute_result"
    }
   ],
   "source": [
    "#Top sector, second-top, third-top for D1 (based on count of investments)\n",
    "#Number of investments in the top, second-top, third-top sector in D1\n",
    "TIC_USD=pd.DataFrame(D1.groupby(by='main_sector')['main_sector'].count().\n",
    "                     rename('Total_Investment_Count').sort_values(ascending = False))\n",
    "TIC_USD.reset_index(inplace=True)\n",
    "TIC_USD.head(n=3)"
   ]
  },
  {
   "cell_type": "markdown",
   "metadata": {},
   "source": [
    "Second-best sector (based on count of investments) & Number of investments in the second-best sector"
   ]
  },
  {
   "cell_type": "code",
   "execution_count": 64,
   "metadata": {},
   "outputs": [
    {
     "data": {
      "text/html": [
       "<div>\n",
       "<style scoped>\n",
       "    .dataframe tbody tr th:only-of-type {\n",
       "        vertical-align: middle;\n",
       "    }\n",
       "\n",
       "    .dataframe tbody tr th {\n",
       "        vertical-align: top;\n",
       "    }\n",
       "\n",
       "    .dataframe thead th {\n",
       "        text-align: right;\n",
       "    }\n",
       "</style>\n",
       "<table border=\"1\" class=\"dataframe\">\n",
       "  <thead>\n",
       "    <tr style=\"text-align: right;\">\n",
       "      <th></th>\n",
       "      <th>main_sector</th>\n",
       "      <th>Total_Investment_Count</th>\n",
       "    </tr>\n",
       "  </thead>\n",
       "  <tbody>\n",
       "    <tr>\n",
       "      <th>0</th>\n",
       "      <td>Others</td>\n",
       "      <td>147</td>\n",
       "    </tr>\n",
       "    <tr>\n",
       "      <th>1</th>\n",
       "      <td>Social, Finance, Analytics, Advertising</td>\n",
       "      <td>133</td>\n",
       "    </tr>\n",
       "    <tr>\n",
       "      <th>2</th>\n",
       "      <td>Cleantech / Semiconductors</td>\n",
       "      <td>128</td>\n",
       "    </tr>\n",
       "  </tbody>\n",
       "</table>\n",
       "</div>"
      ],
      "text/plain": [
       "                               main_sector  Total_Investment_Count\n",
       "0                                   Others                     147\n",
       "1  Social, Finance, Analytics, Advertising                     133\n",
       "2               Cleantech / Semiconductors                     128"
      ]
     },
     "execution_count": 64,
     "metadata": {},
     "output_type": "execute_result"
    }
   ],
   "source": [
    "#Top sector, second-top, third-top for D2 (based on count of investments)\n",
    "#Number of investments in the top, second-top, third-top sector in D2\n",
    "TIC_GBR=pd.DataFrame(D2.groupby(by='main_sector')['main_sector'].count().\n",
    "                     rename('Total_Investment_Count').sort_values(ascending = False))\n",
    "TIC_GBR.reset_index(inplace=True)\n",
    "TIC_GBR.head(n=3)"
   ]
  },
  {
   "cell_type": "markdown",
   "metadata": {},
   "source": [
    "Third-best sector (based on count of investments) & Number of investments in the third-best sector"
   ]
  },
  {
   "cell_type": "code",
   "execution_count": 65,
   "metadata": {},
   "outputs": [
    {
     "data": {
      "text/html": [
       "<div>\n",
       "<style scoped>\n",
       "    .dataframe tbody tr th:only-of-type {\n",
       "        vertical-align: middle;\n",
       "    }\n",
       "\n",
       "    .dataframe tbody tr th {\n",
       "        vertical-align: top;\n",
       "    }\n",
       "\n",
       "    .dataframe thead th {\n",
       "        text-align: right;\n",
       "    }\n",
       "</style>\n",
       "<table border=\"1\" class=\"dataframe\">\n",
       "  <thead>\n",
       "    <tr style=\"text-align: right;\">\n",
       "      <th></th>\n",
       "      <th>main_sector</th>\n",
       "      <th>Total_Investment_Count</th>\n",
       "    </tr>\n",
       "  </thead>\n",
       "  <tbody>\n",
       "    <tr>\n",
       "      <th>0</th>\n",
       "      <td>Others</td>\n",
       "      <td>110</td>\n",
       "    </tr>\n",
       "    <tr>\n",
       "      <th>1</th>\n",
       "      <td>Social, Finance, Analytics, Advertising</td>\n",
       "      <td>60</td>\n",
       "    </tr>\n",
       "    <tr>\n",
       "      <th>2</th>\n",
       "      <td>News, Search and Messaging</td>\n",
       "      <td>52</td>\n",
       "    </tr>\n",
       "  </tbody>\n",
       "</table>\n",
       "</div>"
      ],
      "text/plain": [
       "                               main_sector  Total_Investment_Count\n",
       "0                                   Others                     110\n",
       "1  Social, Finance, Analytics, Advertising                      60\n",
       "2               News, Search and Messaging                      52"
      ]
     },
     "execution_count": 65,
     "metadata": {},
     "output_type": "execute_result"
    }
   ],
   "source": [
    "#Top sector, second-top, third-top for D2 (based on count of investments)\n",
    "#Number of investments in the top, second-top, third-top sector in D3\n",
    "TIC_IND=pd.DataFrame(D3.groupby(by='main_sector')['main_sector'].count().\n",
    "                     rename('Total_Investment_Count').sort_values(ascending = False))\n",
    "TIC_IND.reset_index(inplace=True)\n",
    "TIC_IND.head(n=3)"
   ]
  },
  {
   "cell_type": "markdown",
   "metadata": {},
   "source": [
    "For the top First count-wise, which company received the highest investment?"
   ]
  },
  {
   "cell_type": "code",
   "execution_count": 66,
   "metadata": {},
   "outputs": [
    {
     "data": {
      "text/html": [
       "<div>\n",
       "<style scoped>\n",
       "    .dataframe tbody tr th:only-of-type {\n",
       "        vertical-align: middle;\n",
       "    }\n",
       "\n",
       "    .dataframe tbody tr th {\n",
       "        vertical-align: top;\n",
       "    }\n",
       "\n",
       "    .dataframe thead th {\n",
       "        text-align: right;\n",
       "    }\n",
       "</style>\n",
       "<table border=\"1\" class=\"dataframe\">\n",
       "  <thead>\n",
       "    <tr style=\"text-align: right;\">\n",
       "      <th></th>\n",
       "      <th>raised_amount_usd</th>\n",
       "    </tr>\n",
       "    <tr>\n",
       "      <th>permalink</th>\n",
       "      <th></th>\n",
       "    </tr>\n",
       "  </thead>\n",
       "  <tbody>\n",
       "    <tr>\n",
       "      <th>/organization/virtustream</th>\n",
       "      <td>64300000.0</td>\n",
       "    </tr>\n",
       "  </tbody>\n",
       "</table>\n",
       "</div>"
      ],
      "text/plain": [
       "                           raised_amount_usd\n",
       "permalink                                   \n",
       "/organization/virtustream         64300000.0"
      ]
     },
     "execution_count": 66,
     "metadata": {},
     "output_type": "execute_result"
    }
   ],
   "source": [
    "#For the top sector USA , which company received the highest investment?\n",
    "company_HI = D1[D1['main_sector']=='Others']\n",
    "company_HI = company_HI.pivot_table(values = 'raised_amount_usd', index = 'permalink', aggfunc = 'sum')\n",
    "company_HI = company_HI.sort_values(by = 'raised_amount_usd', ascending = False).head()\n",
    "company_HI.head(1)"
   ]
  },
  {
   "cell_type": "markdown",
   "metadata": {},
   "source": [
    "Answer: /organization/virtustream"
   ]
  },
  {
   "cell_type": "markdown",
   "metadata": {},
   "source": [
    "For the second-best sector count-wise, which company received the highest investment?"
   ]
  },
  {
   "cell_type": "code",
   "execution_count": 67,
   "metadata": {},
   "outputs": [
    {
     "data": {
      "text/html": [
       "<div>\n",
       "<style scoped>\n",
       "    .dataframe tbody tr th:only-of-type {\n",
       "        vertical-align: middle;\n",
       "    }\n",
       "\n",
       "    .dataframe tbody tr th {\n",
       "        vertical-align: top;\n",
       "    }\n",
       "\n",
       "    .dataframe thead th {\n",
       "        text-align: right;\n",
       "    }\n",
       "</style>\n",
       "<table border=\"1\" class=\"dataframe\">\n",
       "  <thead>\n",
       "    <tr style=\"text-align: right;\">\n",
       "      <th></th>\n",
       "      <th>raised_amount_usd</th>\n",
       "    </tr>\n",
       "    <tr>\n",
       "      <th>permalink</th>\n",
       "      <th></th>\n",
       "    </tr>\n",
       "  </thead>\n",
       "  <tbody>\n",
       "    <tr>\n",
       "      <th>/organization/shotspotter</th>\n",
       "      <td>67933006.0</td>\n",
       "    </tr>\n",
       "  </tbody>\n",
       "</table>\n",
       "</div>"
      ],
      "text/plain": [
       "                           raised_amount_usd\n",
       "permalink                                   \n",
       "/organization/shotspotter         67933006.0"
      ]
     },
     "execution_count": 67,
     "metadata": {},
     "output_type": "execute_result"
    }
   ],
   "source": [
    "\n",
    "#For the second top sector USA , which company received the highest investment?\n",
    "company_HI = D1[D1['main_sector']=='Social, Finance, Analytics, Advertising']\n",
    "company_HI = company_HI.pivot_table(values = 'raised_amount_usd', index = 'permalink', aggfunc = 'sum')\n",
    "company_HI = company_HI.sort_values(by = 'raised_amount_usd', ascending = False).head()\n",
    "company_HI.head(1)"
   ]
  },
  {
   "cell_type": "markdown",
   "metadata": {},
   "source": [
    "Answer:/organization/shotspotter"
   ]
  },
  {
   "cell_type": "markdown",
   "metadata": {},
   "source": [
    "For the top First count-wise, which company received the highest investment?"
   ]
  },
  {
   "cell_type": "code",
   "execution_count": 68,
   "metadata": {},
   "outputs": [
    {
     "data": {
      "text/html": [
       "<div>\n",
       "<style scoped>\n",
       "    .dataframe tbody tr th:only-of-type {\n",
       "        vertical-align: middle;\n",
       "    }\n",
       "\n",
       "    .dataframe tbody tr th {\n",
       "        vertical-align: top;\n",
       "    }\n",
       "\n",
       "    .dataframe thead th {\n",
       "        text-align: right;\n",
       "    }\n",
       "</style>\n",
       "<table border=\"1\" class=\"dataframe\">\n",
       "  <thead>\n",
       "    <tr style=\"text-align: right;\">\n",
       "      <th></th>\n",
       "      <th>raised_amount_usd</th>\n",
       "    </tr>\n",
       "    <tr>\n",
       "      <th>permalink</th>\n",
       "      <th></th>\n",
       "    </tr>\n",
       "  </thead>\n",
       "  <tbody>\n",
       "    <tr>\n",
       "      <th>/organization/electric-cloud</th>\n",
       "      <td>37000000.0</td>\n",
       "    </tr>\n",
       "  </tbody>\n",
       "</table>\n",
       "</div>"
      ],
      "text/plain": [
       "                              raised_amount_usd\n",
       "permalink                                      \n",
       "/organization/electric-cloud         37000000.0"
      ]
     },
     "execution_count": 68,
     "metadata": {},
     "output_type": "execute_result"
    }
   ],
   "source": [
    "#For the top sector GBR , which company received the highest investment?\n",
    "company_HI = D2[D2['main_sector']=='Others']\n",
    "company_HI = company_HI.pivot_table(values = 'raised_amount_usd', index = 'permalink', aggfunc = 'sum')\n",
    "company_HI = company_HI.sort_values(by = 'raised_amount_usd', ascending = False).head()\n",
    "company_HI.head(1)"
   ]
  },
  {
   "cell_type": "markdown",
   "metadata": {},
   "source": [
    "Answer: /organization/electric-cloud"
   ]
  },
  {
   "cell_type": "markdown",
   "metadata": {},
   "source": [
    "For the second-best sector count-wise (point 4), which company received the highest investment?"
   ]
  },
  {
   "cell_type": "code",
   "execution_count": 69,
   "metadata": {},
   "outputs": [
    {
     "data": {
      "text/html": [
       "<div>\n",
       "<style scoped>\n",
       "    .dataframe tbody tr th:only-of-type {\n",
       "        vertical-align: middle;\n",
       "    }\n",
       "\n",
       "    .dataframe tbody tr th {\n",
       "        vertical-align: top;\n",
       "    }\n",
       "\n",
       "    .dataframe thead th {\n",
       "        text-align: right;\n",
       "    }\n",
       "</style>\n",
       "<table border=\"1\" class=\"dataframe\">\n",
       "  <thead>\n",
       "    <tr style=\"text-align: right;\">\n",
       "      <th></th>\n",
       "      <th>raised_amount_usd</th>\n",
       "    </tr>\n",
       "    <tr>\n",
       "      <th>permalink</th>\n",
       "      <th></th>\n",
       "    </tr>\n",
       "  </thead>\n",
       "  <tbody>\n",
       "    <tr>\n",
       "      <th>/organization/celltick-technologies</th>\n",
       "      <td>37500000.0</td>\n",
       "    </tr>\n",
       "  </tbody>\n",
       "</table>\n",
       "</div>"
      ],
      "text/plain": [
       "                                     raised_amount_usd\n",
       "permalink                                             \n",
       "/organization/celltick-technologies         37500000.0"
      ]
     },
     "execution_count": 69,
     "metadata": {},
     "output_type": "execute_result"
    }
   ],
   "source": [
    "#For the second top sector GBR , which company received the highest investment?\n",
    "company_HI = D2[D2['main_sector']=='Social, Finance, Analytics, Advertising']\n",
    "company_HI = company_HI.pivot_table(values = 'raised_amount_usd', index = 'permalink', aggfunc = 'sum')\n",
    "company_HI = company_HI.sort_values(by = 'raised_amount_usd', ascending = False).head()\n",
    "company_HI.head(1)"
   ]
  },
  {
   "cell_type": "markdown",
   "metadata": {},
   "source": [
    "Answer: /organization/celltick-technologies\t"
   ]
  },
  {
   "cell_type": "markdown",
   "metadata": {},
   "source": [
    "For the top sector count-wise, which company received the highest investment?"
   ]
  },
  {
   "cell_type": "code",
   "execution_count": 70,
   "metadata": {},
   "outputs": [
    {
     "data": {
      "text/html": [
       "<div>\n",
       "<style scoped>\n",
       "    .dataframe tbody tr th:only-of-type {\n",
       "        vertical-align: middle;\n",
       "    }\n",
       "\n",
       "    .dataframe tbody tr th {\n",
       "        vertical-align: top;\n",
       "    }\n",
       "\n",
       "    .dataframe thead th {\n",
       "        text-align: right;\n",
       "    }\n",
       "</style>\n",
       "<table border=\"1\" class=\"dataframe\">\n",
       "  <thead>\n",
       "    <tr style=\"text-align: right;\">\n",
       "      <th></th>\n",
       "      <th>raised_amount_usd</th>\n",
       "    </tr>\n",
       "    <tr>\n",
       "      <th>permalink</th>\n",
       "      <th></th>\n",
       "    </tr>\n",
       "  </thead>\n",
       "  <tbody>\n",
       "    <tr>\n",
       "      <th>/organization/firstcry-com</th>\n",
       "      <td>39000000.0</td>\n",
       "    </tr>\n",
       "  </tbody>\n",
       "</table>\n",
       "</div>"
      ],
      "text/plain": [
       "                            raised_amount_usd\n",
       "permalink                                    \n",
       "/organization/firstcry-com         39000000.0"
      ]
     },
     "execution_count": 70,
     "metadata": {},
     "output_type": "execute_result"
    }
   ],
   "source": [
    "#For the top sector IND , which company received the highest investment?\n",
    "company_HI = D3[D3['main_sector']=='Others']\n",
    "company_HI = company_HI.pivot_table(values = 'raised_amount_usd', index = 'permalink', aggfunc = 'sum')\n",
    "company_HI = company_HI.sort_values(by = 'raised_amount_usd', ascending = False).head()\n",
    "company_HI.head(1)\n"
   ]
  },
  {
   "cell_type": "markdown",
   "metadata": {},
   "source": [
    "Answer: /organization/firstcry-com"
   ]
  },
  {
   "cell_type": "markdown",
   "metadata": {},
   "source": [
    "For the second-best sector count-wise, which company received the highest investment?"
   ]
  },
  {
   "cell_type": "code",
   "execution_count": 71,
   "metadata": {},
   "outputs": [
    {
     "data": {
      "text/html": [
       "<div>\n",
       "<style scoped>\n",
       "    .dataframe tbody tr th:only-of-type {\n",
       "        vertical-align: middle;\n",
       "    }\n",
       "\n",
       "    .dataframe tbody tr th {\n",
       "        vertical-align: top;\n",
       "    }\n",
       "\n",
       "    .dataframe thead th {\n",
       "        text-align: right;\n",
       "    }\n",
       "</style>\n",
       "<table border=\"1\" class=\"dataframe\">\n",
       "  <thead>\n",
       "    <tr style=\"text-align: right;\">\n",
       "      <th></th>\n",
       "      <th>raised_amount_usd</th>\n",
       "    </tr>\n",
       "    <tr>\n",
       "      <th>permalink</th>\n",
       "      <th></th>\n",
       "    </tr>\n",
       "  </thead>\n",
       "  <tbody>\n",
       "    <tr>\n",
       "      <th>/organization/gupshup-technology-india-pvt-ltd</th>\n",
       "      <td>33000000.0</td>\n",
       "    </tr>\n",
       "  </tbody>\n",
       "</table>\n",
       "</div>"
      ],
      "text/plain": [
       "                                                raised_amount_usd\n",
       "permalink                                                        \n",
       "/organization/gupshup-technology-india-pvt-ltd         33000000.0"
      ]
     },
     "execution_count": 71,
     "metadata": {},
     "output_type": "execute_result"
    }
   ],
   "source": [
    "\n",
    "#For the second top sector IND , which company received the highest investment?\n",
    "company_HI = D3[D3['main_sector']=='News, Search and Messaging']\n",
    "company_HI = company_HI.pivot_table(values = 'raised_amount_usd', index = 'permalink', aggfunc = 'sum')\n",
    "company_HI = company_HI.sort_values(by = 'raised_amount_usd', ascending = False).head()\n",
    "company_HI.head(1)"
   ]
  },
  {
   "cell_type": "markdown",
   "metadata": {},
   "source": [
    "Answer: /organization/gupshup-technology-india-pvt-ltd"
   ]
  },
  {
   "cell_type": "markdown",
   "metadata": {},
   "source": [
    "### Checkpoint 6: Plots"
   ]
  },
  {
   "cell_type": "markdown",
   "metadata": {},
   "source": [
    "#### Data Analysis\n",
    "##### Exploratory Data Analytics\n",
    "Let's now spend some time doing what is arguably the most important step - understanding the data.\n",
    "\n",
    "###### Visualising Numeric Variables\n",
    "Let's make a pairplot of all the numeric variables"
   ]
  },
  {
   "cell_type": "code",
   "execution_count": 72,
   "metadata": {},
   "outputs": [],
   "source": [
    "import chardet\n",
    "import seaborn as sns\n",
    "import matplotlib.pyplot as plt"
   ]
  },
  {
   "cell_type": "markdown",
   "metadata": {},
   "source": [
    "Plot1: A plot showing the representative amount of investment in each funding type. This chart should make it clear that a certain funding type (FT) is best suited for Spark Funds.   "
   ]
  },
  {
   "cell_type": "code",
   "execution_count": 73,
   "metadata": {},
   "outputs": [],
   "source": [
    "plot_frame=master_frame.groupby('funding_round_type')['raised_amount_usd'].sum()"
   ]
  },
  {
   "cell_type": "code",
   "execution_count": 74,
   "metadata": {},
   "outputs": [
    {
     "data": {
      "image/png": "[encoded data removed]",
      "text/plain": [
       "<Figure size 1080x1080 with 2 Axes>"
      ]
     },
     "metadata": {
      "needs_background": "light"
     },
     "output_type": "display_data"
    }
   ],
   "source": [
    "# subplot 1 - Fraction of Total Investments(globally)\n",
    "plt.figure(figsize=[9.0,9.0],dpi=120,edgecolor='c',frameon=True)\n",
    "plt.subplot(221)\n",
    "plt.title('Fraction of Total Investments(globally) ')\n",
    "# Data to plot\n",
    "labels = 'angel', 'venture', 'seed', 'private_equity'\n",
    "colors = ['#ff9999','#99ff99','#ffcc99','#66b3ff']\n",
    "# Plot\n",
    "plt.pie(plot_frame, labels=labels, colors=colors, autopct='%1.1f%%', startangle=60)\n",
    "\n",
    "# subplot 2 - Average Amount of Investment\n",
    "plt.subplot(222)\n",
    "sns.barplot(x=master_frame['funding_round_type'],y=master_frame['raised_amount_usd']/1000000,estimator=np.mean,order=[\"angel\",\"seed\",\"venture\",\"private_equity\"],ci=None)\n",
    "plt.ylabel(\"raised_amount_usd (in millions)\")\n",
    "plt.title(\"Average Amount of Investement\") \n",
    "plt.show()"
   ]
  },
  {
   "cell_type": "markdown",
   "metadata": {},
   "source": [
    "Observation: We can clearly see Venture average investment amount is in between 5 and 15 million USD"
   ]
  },
  {
   "cell_type": "markdown",
   "metadata": {},
   "source": [
    "BoxPlot"
   ]
  },
  {
   "cell_type": "code",
   "execution_count": 75,
   "metadata": {},
   "outputs": [
    {
     "data": {
      "image/png": "[encoded data removed]",
      "text/plain": [
       "<Figure size 432x288 with 1 Axes>"
      ]
     },
     "metadata": {
      "needs_background": "light"
     },
     "output_type": "display_data"
    }
   ],
   "source": [
    "sns.boxplot(x='funding_round_type', y=master_frame['raised_amount_usd']/1000000, data=master_frame)\n",
    "plt.yscale('log')\n",
    "plt.ylabel(\"raised_amount_usd (in millions)\")\n",
    "plt.title(\"Representative amount of investment\") \n",
    "plt.show()"
   ]
  },
  {
   "cell_type": "code",
   "execution_count": 76,
   "metadata": {},
   "outputs": [
    {
     "data": {
      "text/plain": [
       "count    7.512400e+04\n",
       "mean     9.519475e+06\n",
       "std      7.792778e+07\n",
       "min      0.000000e+00\n",
       "25%      4.705852e+05\n",
       "50%      2.000000e+06\n",
       "75%      8.000000e+06\n",
       "max      1.760000e+10\n",
       "Name: raised_amount_usd, dtype: float64"
      ]
     },
     "execution_count": 76,
     "metadata": {},
     "output_type": "execute_result"
    }
   ],
   "source": [
    "master_frame['raised_amount_usd'].describe()"
   ]
  },
  {
   "cell_type": "markdown",
   "metadata": {},
   "source": [
    "A plot showing the top 9 countries against the total amount of investments of funding type FT. This should make the top 3 countries (Country 1, Country 2, and Country 3) very clear. "
   ]
  },
  {
   "cell_type": "code",
   "execution_count": 77,
   "metadata": {},
   "outputs": [
    {
     "data": {
      "text/html": [
       "<div>\n",
       "<style scoped>\n",
       "    .dataframe tbody tr th:only-of-type {\n",
       "        vertical-align: middle;\n",
       "    }\n",
       "\n",
       "    .dataframe tbody tr th {\n",
       "        vertical-align: top;\n",
       "    }\n",
       "\n",
       "    .dataframe thead th {\n",
       "        text-align: right;\n",
       "    }\n",
       "</style>\n",
       "<table border=\"1\" class=\"dataframe\">\n",
       "  <thead>\n",
       "    <tr style=\"text-align: right;\">\n",
       "      <th></th>\n",
       "      <th>country_code</th>\n",
       "      <th>english_speaking_flag</th>\n",
       "    </tr>\n",
       "  </thead>\n",
       "  <tbody>\n",
       "    <tr>\n",
       "      <th>0</th>\n",
       "      <td>USA</td>\n",
       "      <td>Y</td>\n",
       "    </tr>\n",
       "    <tr>\n",
       "      <th>1</th>\n",
       "      <td>CHN</td>\n",
       "      <td>N</td>\n",
       "    </tr>\n",
       "    <tr>\n",
       "      <th>2</th>\n",
       "      <td>GBR</td>\n",
       "      <td>Y</td>\n",
       "    </tr>\n",
       "    <tr>\n",
       "      <th>3</th>\n",
       "      <td>IND</td>\n",
       "      <td>Y</td>\n",
       "    </tr>\n",
       "    <tr>\n",
       "      <th>4</th>\n",
       "      <td>CAN</td>\n",
       "      <td>Y</td>\n",
       "    </tr>\n",
       "    <tr>\n",
       "      <th>5</th>\n",
       "      <td>FRA</td>\n",
       "      <td>N</td>\n",
       "    </tr>\n",
       "    <tr>\n",
       "      <th>6</th>\n",
       "      <td>ISR</td>\n",
       "      <td>Y</td>\n",
       "    </tr>\n",
       "    <tr>\n",
       "      <th>7</th>\n",
       "      <td>DEU</td>\n",
       "      <td>N</td>\n",
       "    </tr>\n",
       "    <tr>\n",
       "      <th>8</th>\n",
       "      <td>JPN</td>\n",
       "      <td>N</td>\n",
       "    </tr>\n",
       "  </tbody>\n",
       "</table>\n",
       "</div>"
      ],
      "text/plain": [
       "  country_code english_speaking_flag\n",
       "0          USA                     Y\n",
       "1          CHN                     N\n",
       "2          GBR                     Y\n",
       "3          IND                     Y\n",
       "4          CAN                     Y\n",
       "5          FRA                     N\n",
       "6          ISR                     Y\n",
       "7          DEU                     N\n",
       "8          JPN                     N"
      ]
     },
     "execution_count": 77,
     "metadata": {},
     "output_type": "execute_result"
    }
   ],
   "source": [
    "english_speaking_countires=pd.DataFrame({'country_code': ['USA','CHN','GBR','IND','CAN','FRA','ISR','DEU','JPN'],\n",
    "                        'english_speaking_flag': ['Y','N','Y','Y','Y','N','Y','N','N']})\n",
    "english_speaking_countires.head(n=10)"
   ]
  },
  {
   "cell_type": "code",
   "execution_count": 78,
   "metadata": {},
   "outputs": [
    {
     "data": {
      "text/html": [
       "<div>\n",
       "<style scoped>\n",
       "    .dataframe tbody tr th:only-of-type {\n",
       "        vertical-align: middle;\n",
       "    }\n",
       "\n",
       "    .dataframe tbody tr th {\n",
       "        vertical-align: top;\n",
       "    }\n",
       "\n",
       "    .dataframe thead th {\n",
       "        text-align: right;\n",
       "    }\n",
       "</style>\n",
       "<table border=\"1\" class=\"dataframe\">\n",
       "  <thead>\n",
       "    <tr style=\"text-align: right;\">\n",
       "      <th></th>\n",
       "      <th>country_code</th>\n",
       "      <th>raised_amount_usd</th>\n",
       "      <th>english_speaking_flag</th>\n",
       "    </tr>\n",
       "  </thead>\n",
       "  <tbody>\n",
       "    <tr>\n",
       "      <th>0</th>\n",
       "      <td>USA</td>\n",
       "      <td>4.200680e+11</td>\n",
       "      <td>Y</td>\n",
       "    </tr>\n",
       "    <tr>\n",
       "      <th>1</th>\n",
       "      <td>CHN</td>\n",
       "      <td>3.933892e+10</td>\n",
       "      <td>N</td>\n",
       "    </tr>\n",
       "    <tr>\n",
       "      <th>2</th>\n",
       "      <td>GBR</td>\n",
       "      <td>2.007281e+10</td>\n",
       "      <td>Y</td>\n",
       "    </tr>\n",
       "    <tr>\n",
       "      <th>3</th>\n",
       "      <td>IND</td>\n",
       "      <td>1.426151e+10</td>\n",
       "      <td>Y</td>\n",
       "    </tr>\n",
       "    <tr>\n",
       "      <th>4</th>\n",
       "      <td>CAN</td>\n",
       "      <td>9.482218e+09</td>\n",
       "      <td>Y</td>\n",
       "    </tr>\n",
       "    <tr>\n",
       "      <th>5</th>\n",
       "      <td>FRA</td>\n",
       "      <td>7.226851e+09</td>\n",
       "      <td>N</td>\n",
       "    </tr>\n",
       "    <tr>\n",
       "      <th>6</th>\n",
       "      <td>ISR</td>\n",
       "      <td>6.854350e+09</td>\n",
       "      <td>Y</td>\n",
       "    </tr>\n",
       "    <tr>\n",
       "      <th>7</th>\n",
       "      <td>DEU</td>\n",
       "      <td>6.306922e+09</td>\n",
       "      <td>N</td>\n",
       "    </tr>\n",
       "    <tr>\n",
       "      <th>8</th>\n",
       "      <td>JPN</td>\n",
       "      <td>3.167647e+09</td>\n",
       "      <td>N</td>\n",
       "    </tr>\n",
       "  </tbody>\n",
       "</table>\n",
       "</div>"
      ],
      "text/plain": [
       "  country_code  raised_amount_usd english_speaking_flag\n",
       "0          USA       4.200680e+11                     Y\n",
       "1          CHN       3.933892e+10                     N\n",
       "2          GBR       2.007281e+10                     Y\n",
       "3          IND       1.426151e+10                     Y\n",
       "4          CAN       9.482218e+09                     Y\n",
       "5          FRA       7.226851e+09                     N\n",
       "6          ISR       6.854350e+09                     Y\n",
       "7          DEU       6.306922e+09                     N\n",
       "8          JPN       3.167647e+09                     N"
      ]
     },
     "execution_count": 78,
     "metadata": {},
     "output_type": "execute_result"
    }
   ],
   "source": [
    "top9=pd.merge(top9,english_speaking_countires,how='inner',on='country_code')\n",
    "top9.head(n=10)"
   ]
  },
  {
   "cell_type": "code",
   "execution_count": 79,
   "metadata": {},
   "outputs": [
    {
     "data": {
      "image/png": "[encoded data removed]",
      "text/plain": [
       "<Figure size 1200x600 with 1 Axes>"
      ]
     },
     "metadata": {
      "needs_background": "light"
     },
     "output_type": "display_data"
    }
   ],
   "source": [
    "plt.figure(figsize=[10.0,5.0],dpi=120,frameon=True)\n",
    "sns.barplot(x=top9['country_code'],y=top9['raised_amount_usd']/1000000,hue=top9['english_speaking_flag'],ci=None)\n",
    "plt.ylabel(\"raised_amount_usd (in millions)\")\n",
    "plt.title(\"Total Amount of Investement for Top 9 Countries\") \n",
    "plt.show()"
   ]
  },
  {
   "cell_type": "markdown",
   "metadata": {},
   "source": [
    "Observation: The three most investment-friendly countries and the most suited funding type for Spark Funds are USA, United Kingdom, India."
   ]
  },
  {
   "cell_type": "markdown",
   "metadata": {},
   "source": [
    "A plot showing the number of investments in the top 3 sectors of the top 3 countries on one chart (for the chosen investment type FT)."
   ]
  },
  {
   "cell_type": "code",
   "execution_count": 80,
   "metadata": {},
   "outputs": [],
   "source": [
    "#selecting dataframe with raised_amount_usd in between 5 and 15 million USD\n",
    "venture_sector_frame = venture_sector_frame[(venture_sector_frame['raised_amount_usd'] >= 5000000) &\n",
    "             (venture_sector_frame['raised_amount_usd'] <= 15000000)]"
   ]
  },
  {
   "cell_type": "code",
   "execution_count": 81,
   "metadata": {},
   "outputs": [
    {
     "data": {
      "image/png": "[encoded data removed]",
      "text/plain": [
       "<Figure size 2400x960 with 1 Axes>"
      ]
     },
     "metadata": {
      "needs_background": "light"
     },
     "output_type": "display_data"
    }
   ],
   "source": [
    "plt.figure(figsize=[20.0,8.0],dpi=120,frameon=True)\n",
    "sns.barplot(x='main_sector', y='raised_amount_usd', hue='country_code',data=venture_sector_frame, estimator=np.sum)\n",
    "plt.ylabel(\"Total Investment count\")\n",
    "plt.xlabel(\"Top 3 Countries\")\n",
    "plt.title(\"Number of Investments in all the  Sectors of the Top 3 Countries\") \n",
    "plt.show()"
   ]
  },
  {
   "cell_type": "markdown",
   "metadata": {},
   "source": [
    "Observation: The most heavily invested main sectors in each of the three countries (for funding type FT and investments range of 5-15 M USD) are:​\n",
    "\n",
    "         USA – 1)Others,  2)Social, Finance, Analytics, Advertising, 3)Cleantech / Semiconductors.​\n",
    "\n",
    "         United Kingdom - 1)Others,  2)Social, Finance, Analytics, Advertising,  3)Cleantech / Semiconductors.​\n",
    "\n",
    "         India - 1)Others,  2)Social, Finance, Analytics,  Advertising, 3)News, Search and Messaging.​"
   ]
  },
  {
   "cell_type": "code",
   "execution_count": 82,
   "metadata": {},
   "outputs": [],
   "source": [
    "TIC_USD = TIC_USD.sort_values(by='Total_Investment_Count',ascending = False).head(n=3)\n",
    "TIC_USD['Country'] = 'USA'\n",
    "TIC_GBR = TIC_GBR.sort_values(by='Total_Investment_Count',ascending = False).head(n=3)\n",
    "TIC_GBR['Country'] = 'GBR'\n",
    "TIC_IND = TIC_IND.sort_values(by='Total_Investment_Count',ascending = False).head(n=3)\n",
    "TIC_IND['Country'] = 'IND'"
   ]
  },
  {
   "cell_type": "code",
   "execution_count": 83,
   "metadata": {},
   "outputs": [
    {
     "data": {
      "text/html": [
       "<div>\n",
       "<style scoped>\n",
       "    .dataframe tbody tr th:only-of-type {\n",
       "        vertical-align: middle;\n",
       "    }\n",
       "\n",
       "    .dataframe tbody tr th {\n",
       "        vertical-align: top;\n",
       "    }\n",
       "\n",
       "    .dataframe thead th {\n",
       "        text-align: right;\n",
       "    }\n",
       "</style>\n",
       "<table border=\"1\" class=\"dataframe\">\n",
       "  <thead>\n",
       "    <tr style=\"text-align: right;\">\n",
       "      <th></th>\n",
       "      <th>main_sector</th>\n",
       "      <th>Total_Investment_Count</th>\n",
       "      <th>Country</th>\n",
       "    </tr>\n",
       "  </thead>\n",
       "  <tbody>\n",
       "    <tr>\n",
       "      <th>0</th>\n",
       "      <td>Others</td>\n",
       "      <td>2950</td>\n",
       "      <td>USA</td>\n",
       "    </tr>\n",
       "    <tr>\n",
       "      <th>1</th>\n",
       "      <td>Social, Finance, Analytics, Advertising</td>\n",
       "      <td>2714</td>\n",
       "      <td>USA</td>\n",
       "    </tr>\n",
       "    <tr>\n",
       "      <th>2</th>\n",
       "      <td>Cleantech / Semiconductors</td>\n",
       "      <td>2300</td>\n",
       "      <td>USA</td>\n",
       "    </tr>\n",
       "    <tr>\n",
       "      <th>3</th>\n",
       "      <td>Others</td>\n",
       "      <td>147</td>\n",
       "      <td>GBR</td>\n",
       "    </tr>\n",
       "    <tr>\n",
       "      <th>4</th>\n",
       "      <td>Social, Finance, Analytics, Advertising</td>\n",
       "      <td>133</td>\n",
       "      <td>GBR</td>\n",
       "    </tr>\n",
       "    <tr>\n",
       "      <th>5</th>\n",
       "      <td>Cleantech / Semiconductors</td>\n",
       "      <td>128</td>\n",
       "      <td>GBR</td>\n",
       "    </tr>\n",
       "    <tr>\n",
       "      <th>6</th>\n",
       "      <td>Others</td>\n",
       "      <td>110</td>\n",
       "      <td>IND</td>\n",
       "    </tr>\n",
       "    <tr>\n",
       "      <th>7</th>\n",
       "      <td>Social, Finance, Analytics, Advertising</td>\n",
       "      <td>60</td>\n",
       "      <td>IND</td>\n",
       "    </tr>\n",
       "    <tr>\n",
       "      <th>8</th>\n",
       "      <td>News, Search and Messaging</td>\n",
       "      <td>52</td>\n",
       "      <td>IND</td>\n",
       "    </tr>\n",
       "  </tbody>\n",
       "</table>\n",
       "</div>"
      ],
      "text/plain": [
       "                               main_sector  Total_Investment_Count Country\n",
       "0                                   Others                    2950     USA\n",
       "1  Social, Finance, Analytics, Advertising                    2714     USA\n",
       "2               Cleantech / Semiconductors                    2300     USA\n",
       "3                                   Others                     147     GBR\n",
       "4  Social, Finance, Analytics, Advertising                     133     GBR\n",
       "5               Cleantech / Semiconductors                     128     GBR\n",
       "6                                   Others                     110     IND\n",
       "7  Social, Finance, Analytics, Advertising                      60     IND\n",
       "8               News, Search and Messaging                      52     IND"
      ]
     },
     "execution_count": 83,
     "metadata": {},
     "output_type": "execute_result"
    }
   ],
   "source": [
    "TIC=pd.merge(pd.merge(TIC_USD,TIC_GBR,how='outer'),TIC_IND,how='outer')\n",
    "TIC.head(n=10)"
   ]
  },
  {
   "cell_type": "code",
   "execution_count": 84,
   "metadata": {},
   "outputs": [
    {
     "data": {
      "image/png": "[encoded data removed]",
      "text/plain": [
       "<Figure size 432x288 with 1 Axes>"
      ]
     },
     "metadata": {
      "needs_background": "light"
     },
     "output_type": "display_data"
    }
   ],
   "source": [
    "sns.barplot(x='Country', y='Total_Investment_Count', hue='main_sector',data=TIC)\n",
    "plt.ylabel(\"Total Investment Count\")\n",
    "plt.xlabel(\"Top 3 Countries\")\n",
    "plt.title(\"Number of Investments in the Top 3 Sectors of the Top 3 Countries\") \n",
    "plt.show()"
   ]
  },
  {
   "cell_type": "markdown",
   "metadata": {},
   "source": [
    "Observation: Graph showing number of Investments in the Top 3 Sectors of the Top 3 Countries"
   ]
  },
  {
   "cell_type": "code",
   "execution_count": null,
   "metadata": {},
   "outputs": [],
   "source": []
  }
 ],
 "metadata": {
  "kernelspec": {
   "display_name": "Python 3",
   "language": "python",
   "name": "python3"
  },
  "language_info": {
   "codemirror_mode": {
    "name": "ipython",
    "version": 3
   },
   "file_extension": ".py",
   "mimetype": "text/x-python",
   "name": "python",
   "nbconvert_exporter": "python",
   "pygments_lexer": "ipython3",
   "version": "3.8.5"
  }
 },
 "nbformat": 4,
 "nbformat_minor": 4
}
